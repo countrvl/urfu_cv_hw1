{
 "cells": [
  {
   "cell_type": "markdown",
   "id": "2f445cba",
   "metadata": {},
   "source": [
    "Загрузка RuBERT"
   ]
  },
  {
   "cell_type": "markdown",
   "id": "e4a4e8cf",
   "metadata": {},
   "source": [
    "Импорты и конфигурация"
   ]
  },
  {
   "cell_type": "code",
   "execution_count": 19,
   "id": "cbcc89f9",
   "metadata": {},
   "outputs": [
    {
     "name": "stdout",
     "output_type": "stream",
     "text": [
      "Используется устройство: cuda\n"
     ]
    }
   ],
   "source": [
    "# Работа с файлами и путями\n",
    "import os\n",
    "import re\n",
    "import random\n",
    "from collections import defaultdict\n",
    "from collections import Counter\n",
    "\n",
    "# Torch и модель\n",
    "import torch\n",
    "import torch.nn as nn\n",
    "from torch.utils.data import Dataset, DataLoader\n",
    "\n",
    "# Transformers (Hugging Face)\n",
    "from transformers import AutoTokenizer, AutoModel\n",
    "\n",
    "# Визуализация и метрики\n",
    "import matplotlib.pyplot as plt\n",
    "import seaborn as sns\n",
    "\n",
    "from sklearn.preprocessing import LabelEncoder\n",
    "from sklearn.model_selection import train_test_split\n",
    "from sklearn.metrics import classification_report, confusion_matrix\n",
    "\n",
    "# Прогресс-бар\n",
    "from tqdm.notebook import tqdm\n",
    "\n",
    "# Работа с табличками\n",
    "import pandas as pd\n",
    "\n",
    "# Пути и модель\n",
    "local_model_path = \"models/rubert\"\n",
    "model_name = \"DeepPavlov/rubert-base-cased\"\n",
    "author_folder = \"data/\"  \n",
    "tokenizer = AutoTokenizer.from_pretrained(model_name)\n",
    "\n",
    "# Проверка устройства\n",
    "device = torch.device(\"cuda\" if torch.cuda.is_available() else \"cpu\")\n",
    "print(f\"Используется устройство: {device}\")"
   ]
  },
  {
   "cell_type": "markdown",
   "id": "122ec1b2",
   "metadata": {},
   "source": [
    "Загрузка текстов всех авторов"
   ]
  },
  {
   "cell_type": "code",
   "execution_count": 20,
   "id": "2367bc96",
   "metadata": {},
   "outputs": [],
   "source": [
    "def read_all_authors_texts(data_dir, max_samples_per_author=500, min_len=50, max_len=300):\n",
    "    texts = []\n",
    "    labels = []\n",
    "\n",
    "    for fname in sorted(os.listdir(data_dir)):\n",
    "        if fname.endswith(\".txt\") and not fname.startswith(\"author\"):\n",
    "            author = fname.replace(\".txt\", \"\")\n",
    "            with open(os.path.join(data_dir, fname), 'r', encoding='utf-8') as f:\n",
    "                raw = f.read().lower()\n",
    "\n",
    "            # Чистим текст: только буквы, пробелы, точки\n",
    "            raw = re.sub(r'[^а-яa-zё\\s.]', ' ', raw)\n",
    "            raw = raw.replace('ё', 'е')\n",
    "            raw = re.sub(r'\\s+', ' ', raw)\n",
    "\n",
    "            # Разбиваем на фрагменты по точкам\n",
    "            fragments = [frag.strip() for frag in raw.split('.') if min_len < len(frag) < max_len]\n",
    "\n",
    "            # Ограничим количество на автора\n",
    "            fragments = fragments[:max_samples_per_author]\n",
    "\n",
    "            texts.extend(fragments)\n",
    "            labels.extend([author] * len(fragments))\n",
    "\n",
    "    return texts, labels\n"
   ]
  },
  {
   "cell_type": "code",
   "execution_count": 21,
   "id": "6075dc01",
   "metadata": {},
   "outputs": [
    {
     "name": "stdout",
     "output_type": "stream",
     "text": [
      "Всего фрагментов: 6000\n",
      "Пример: по фаренгейту дону конгдону с благодарностью если тебе дадут линованную бумагу пиши поперек\n"
     ]
    }
   ],
   "source": [
    "texts, labels = read_all_authors_texts(author_folder, max_samples_per_author=1000)\n",
    "print(f\"Всего фрагментов: {len(texts)}\")\n",
    "print(\"Пример:\", texts[0])"
   ]
  },
  {
   "cell_type": "markdown",
   "id": "cfe4251f",
   "metadata": {},
   "source": [
    "LabelEncoder и разделение на train/val"
   ]
  },
  {
   "cell_type": "code",
   "execution_count": 22,
   "id": "a0919897",
   "metadata": {},
   "outputs": [
    {
     "name": "stdout",
     "output_type": "stream",
     "text": [
      "0: Bradbury\n",
      "1: Bulgakov\n",
      "2: Fry\n",
      "3: Genri\n",
      "4: Simak\n",
      "5: Strugatskie\n"
     ]
    }
   ],
   "source": [
    "label_encoder = LabelEncoder()\n",
    "encoded_labels = label_encoder.fit_transform(labels)\n",
    "\n",
    "# Проверим соответствие меток\n",
    "for i, class_name in enumerate(label_encoder.classes_):\n",
    "    print(f\"{i}: {class_name}\")"
   ]
  },
  {
   "cell_type": "code",
   "execution_count": 23,
   "id": "b13343a3",
   "metadata": {},
   "outputs": [
    {
     "name": "stdout",
     "output_type": "stream",
     "text": [
      "Train size: 4800, Validation size: 1200\n",
      "Train class distribution: Counter({0: 800, 5: 800, 1: 800, 4: 800, 2: 800, 3: 800})\n",
      "Val class distribution: Counter({3: 200, 2: 200, 0: 200, 1: 200, 5: 200, 4: 200})\n"
     ]
    }
   ],
   "source": [
    "train_texts, val_texts, train_labels, val_labels = train_test_split(\n",
    "    texts,\n",
    "    encoded_labels,\n",
    "    test_size=0.2,\n",
    "    stratify=encoded_labels,\n",
    "    random_state=42\n",
    ")\n",
    "\n",
    "print(f\"Train size: {len(train_texts)}, Validation size: {len(val_texts)}\")\n",
    "print(\"Train class distribution:\", Counter(train_labels))\n",
    "print(\"Val class distribution:\", Counter(val_labels))\n"
   ]
  },
  {
   "cell_type": "markdown",
   "id": "3156fd5f",
   "metadata": {},
   "source": [
    "Токенизация текстов"
   ]
  },
  {
   "cell_type": "code",
   "execution_count": 24,
   "id": "74612473",
   "metadata": {},
   "outputs": [],
   "source": [
    "def tokenize_texts(texts, tokenizer, max_len=128):\n",
    "    return tokenizer(\n",
    "        texts,\n",
    "        padding=True,         # добавляет паддинг до max_len\n",
    "        truncation=True,      # обрезает, если длиннее max_len\n",
    "        max_length=max_len,   # фиксируем длину (BERT ограничен)\n",
    "        return_tensors='pt'   # PyTorch-совместимый формат\n",
    "    )\n",
    "\n"
   ]
  },
  {
   "cell_type": "code",
   "execution_count": 26,
   "id": "41b6687b",
   "metadata": {},
   "outputs": [],
   "source": [
    "train_encodings = tokenize_texts(train_texts, tokenizer)\n",
    "val_encodings = tokenize_texts(val_texts, tokenizer)"
   ]
  },
  {
   "cell_type": "markdown",
   "id": "f754bb5e",
   "metadata": {},
   "source": [
    "Dataset-класс и DataLoader"
   ]
  },
  {
   "cell_type": "code",
   "execution_count": 27,
   "id": "08fe2fae",
   "metadata": {},
   "outputs": [],
   "source": [
    "class BertTextDataset(Dataset):\n",
    "    def __init__(self, encodings, labels):\n",
    "        self.encodings = encodings\n",
    "        self.labels = labels\n",
    "\n",
    "    def __len__(self):\n",
    "        return len(self.labels)\n",
    "\n",
    "    def __getitem__(self, idx):\n",
    "        item = {key: val[idx] for key, val in self.encodings.items()}\n",
    "        item[\"labels\"] = torch.tensor(self.labels[idx])\n",
    "        return item\n"
   ]
  },
  {
   "cell_type": "code",
   "execution_count": 29,
   "id": "ab89ff18",
   "metadata": {},
   "outputs": [],
   "source": [
    "train_dataset = BertTextDataset(train_encodings, train_labels)\n",
    "val_dataset = BertTextDataset(val_encodings, val_labels)\n",
    "\n",
    "train_loader = DataLoader(train_dataset, batch_size=32, shuffle=True)\n",
    "val_loader = DataLoader(val_dataset, batch_size=32)\n"
   ]
  },
  {
   "cell_type": "markdown",
   "id": "23372b5d",
   "metadata": {},
   "source": [
    "Создаем класс модели"
   ]
  },
  {
   "cell_type": "code",
   "execution_count": 31,
   "id": "9eb2fec7",
   "metadata": {},
   "outputs": [],
   "source": [
    "class BertClassifier(nn.Module):\n",
    "    def __init__(self, model_name, num_classes, dropout=0.3):\n",
    "        super(BertClassifier, self).__init__()\n",
    "\n",
    "        # Загружаем предобученную модель\n",
    "        self.bert = AutoModel.from_pretrained(model_name)\n",
    "\n",
    "        # Dropout для регуляризации\n",
    "        self.dropout = nn.Dropout(dropout)\n",
    "\n",
    "        # Линейный слой: [CLS]-вектор (768) → классы (6)\n",
    "        self.classifier = nn.Linear(self.bert.config.hidden_size, num_classes)\n",
    "\n",
    "    def forward(self, input_ids, attention_mask):\n",
    "        # Получаем скрытые представления от BERT\n",
    "        outputs = self.bert(input_ids=input_ids, attention_mask=attention_mask)\n",
    "\n",
    "        # Используем [CLS]-вектор (первый токен) как \"сжатое представление смысла\"\n",
    "        cls_output = outputs.last_hidden_state[:, 0, :]  # [batch_size, hidden_size]\n",
    "\n",
    "        x = self.dropout(cls_output)\n",
    "        logits = self.classifier(x)\n",
    "        return logits\n"
   ]
  },
  {
   "cell_type": "code",
   "execution_count": 32,
   "id": "d25a7cf0",
   "metadata": {},
   "outputs": [
    {
     "name": "stderr",
     "output_type": "stream",
     "text": [
      "Some weights of the model checkpoint at DeepPavlov/rubert-base-cased were not used when initializing BertModel: ['cls.predictions.bias', 'cls.predictions.decoder.bias', 'cls.predictions.decoder.weight', 'cls.predictions.transform.LayerNorm.bias', 'cls.predictions.transform.LayerNorm.weight', 'cls.predictions.transform.dense.bias', 'cls.predictions.transform.dense.weight', 'cls.seq_relationship.bias', 'cls.seq_relationship.weight']\n",
      "- This IS expected if you are initializing BertModel from the checkpoint of a model trained on another task or with another architecture (e.g. initializing a BertForSequenceClassification model from a BertForPreTraining model).\n",
      "- This IS NOT expected if you are initializing BertModel from the checkpoint of a model that you expect to be exactly identical (initializing a BertForSequenceClassification model from a BertForSequenceClassification model).\n"
     ]
    },
    {
     "data": {
      "text/plain": [
       "BertClassifier(\n",
       "  (bert): BertModel(\n",
       "    (embeddings): BertEmbeddings(\n",
       "      (word_embeddings): Embedding(119547, 768, padding_idx=0)\n",
       "      (position_embeddings): Embedding(512, 768)\n",
       "      (token_type_embeddings): Embedding(2, 768)\n",
       "      (LayerNorm): LayerNorm((768,), eps=1e-12, elementwise_affine=True)\n",
       "      (dropout): Dropout(p=0.1, inplace=False)\n",
       "    )\n",
       "    (encoder): BertEncoder(\n",
       "      (layer): ModuleList(\n",
       "        (0-11): 12 x BertLayer(\n",
       "          (attention): BertAttention(\n",
       "            (self): BertSdpaSelfAttention(\n",
       "              (query): Linear(in_features=768, out_features=768, bias=True)\n",
       "              (key): Linear(in_features=768, out_features=768, bias=True)\n",
       "              (value): Linear(in_features=768, out_features=768, bias=True)\n",
       "              (dropout): Dropout(p=0.1, inplace=False)\n",
       "            )\n",
       "            (output): BertSelfOutput(\n",
       "              (dense): Linear(in_features=768, out_features=768, bias=True)\n",
       "              (LayerNorm): LayerNorm((768,), eps=1e-12, elementwise_affine=True)\n",
       "              (dropout): Dropout(p=0.1, inplace=False)\n",
       "            )\n",
       "          )\n",
       "          (intermediate): BertIntermediate(\n",
       "            (dense): Linear(in_features=768, out_features=3072, bias=True)\n",
       "            (intermediate_act_fn): GELUActivation()\n",
       "          )\n",
       "          (output): BertOutput(\n",
       "            (dense): Linear(in_features=3072, out_features=768, bias=True)\n",
       "            (LayerNorm): LayerNorm((768,), eps=1e-12, elementwise_affine=True)\n",
       "            (dropout): Dropout(p=0.1, inplace=False)\n",
       "          )\n",
       "        )\n",
       "      )\n",
       "    )\n",
       "    (pooler): BertPooler(\n",
       "      (dense): Linear(in_features=768, out_features=768, bias=True)\n",
       "      (activation): Tanh()\n",
       "    )\n",
       "  )\n",
       "  (dropout): Dropout(p=0.3, inplace=False)\n",
       "  (classifier): Linear(in_features=768, out_features=6, bias=True)\n",
       ")"
      ]
     },
     "execution_count": 32,
     "metadata": {},
     "output_type": "execute_result"
    }
   ],
   "source": [
    "num_classes = len(label_encoder.classes_)\n",
    "\n",
    "model = BertClassifier(model_name=model_name, num_classes=num_classes)\n",
    "model.to(device)\n"
   ]
  },
  {
   "cell_type": "markdown",
   "id": "2293d291",
   "metadata": {},
   "source": [
    "Обучение и валидация модели"
   ]
  },
  {
   "cell_type": "code",
   "execution_count": 34,
   "id": "29b0f441",
   "metadata": {},
   "outputs": [],
   "source": [
    "\"\"\"Оценка модели на валидационной выборке (без обучения) \"\"\"\n",
    "\n",
    "def evaluate_model(model, dataloader, criterion):\n",
    "    model.eval()\n",
    "    total_loss = 0\n",
    "    correct = 0\n",
    "    total = 0\n",
    "\n",
    "    with torch.no_grad():\n",
    "        for batch in dataloader:\n",
    "            input_ids = batch['input_ids'].to(device)\n",
    "            attention_mask = batch['attention_mask'].to(device)\n",
    "            labels = batch['labels'].to(device)\n",
    "\n",
    "            outputs = model(input_ids, attention_mask)\n",
    "            loss = criterion(outputs, labels)\n",
    "\n",
    "            total_loss += loss.item()\n",
    "            preds = outputs.argmax(dim=1)\n",
    "            correct += (preds == labels).sum().item()\n",
    "            total += labels.size(0)\n",
    "\n",
    "    avg_loss = total_loss / len(dataloader)\n",
    "    accuracy = correct / total\n",
    "    return avg_loss, accuracy\n"
   ]
  },
  {
   "cell_type": "code",
   "execution_count": 35,
   "id": "124933ee",
   "metadata": {},
   "outputs": [],
   "source": [
    "def train_model(model, train_loader, val_loader, optimizer, criterion, epochs=5):\n",
    "    train_losses = []\n",
    "    val_losses = []\n",
    "    train_accuracies = []\n",
    "    val_accuracies = []\n",
    "\n",
    "    for epoch in range(epochs):\n",
    "        model.train()\n",
    "        total_loss = 0\n",
    "        correct = 0\n",
    "        total = 0\n",
    "\n",
    "        loop = tqdm(train_loader, desc=f\"Epoch {epoch + 1}\")\n",
    "        for batch in loop:\n",
    "            input_ids = batch['input_ids'].to(device)\n",
    "            attention_mask = batch['attention_mask'].to(device)\n",
    "            labels = batch['labels'].to(device)\n",
    "\n",
    "            optimizer.zero_grad()\n",
    "            outputs = model(input_ids, attention_mask)\n",
    "            loss = criterion(outputs, labels)\n",
    "            loss.backward()\n",
    "            optimizer.step()\n",
    "\n",
    "            total_loss += loss.item()\n",
    "            preds = outputs.argmax(dim=1)\n",
    "            correct += (preds == labels).sum().item()\n",
    "            total += labels.size(0)\n",
    "\n",
    "            loop.set_postfix(loss=loss.item())\n",
    "\n",
    "        train_acc = correct / total\n",
    "        val_loss, val_acc = evaluate_model(model, val_loader, criterion)\n",
    "\n",
    "        train_losses.append(total_loss / len(train_loader))\n",
    "        val_losses.append(val_loss)\n",
    "        train_accuracies.append(train_acc)\n",
    "        val_accuracies.append(val_acc)\n",
    "\n",
    "        print(f\"Epoch {epoch+1} — Train Loss: {total_loss:.4f}, Train Acc: {train_acc:.4f}, Val Acc: {val_acc:.4f}\")\n",
    "\n",
    "    return train_losses, val_losses, train_accuracies, val_accuracies\n"
   ]
  },
  {
   "cell_type": "code",
   "execution_count": 36,
   "id": "6564820a",
   "metadata": {},
   "outputs": [],
   "source": [
    "def plot_metrics(train_losses, val_losses, train_accuracies, val_accuracies):\n",
    "    epochs = range(1, len(train_losses) + 1)\n",
    "\n",
    "    plt.figure(figsize=(14, 5))\n",
    "\n",
    "    # Loss\n",
    "    plt.subplot(1, 2, 1)\n",
    "    plt.plot(epochs, train_losses, label='Train Loss')\n",
    "    plt.plot(epochs, val_losses, label='Val Loss')\n",
    "    plt.xlabel(\"Epoch\")\n",
    "    plt.ylabel(\"Loss\")\n",
    "    plt.title(\"Loss over Epochs\")\n",
    "    plt.legend()\n",
    "\n",
    "    # Accuracy\n",
    "    plt.subplot(1, 2, 2)\n",
    "    plt.plot(epochs, train_accuracies, label='Train Accuracy')\n",
    "    plt.plot(epochs, val_accuracies, label='Val Accuracy')\n",
    "    plt.xlabel(\"Epoch\")\n",
    "    plt.ylabel(\"Accuracy\")\n",
    "    plt.title(\"Accuracy over Epochs\")\n",
    "    plt.legend()\n",
    "\n",
    "    plt.show()\n"
   ]
  },
  {
   "cell_type": "code",
   "execution_count": 37,
   "id": "87061072",
   "metadata": {},
   "outputs": [
    {
     "data": {
      "application/vnd.jupyter.widget-view+json": {
       "model_id": "7a1c854b7e8a40588327b768b431cea9",
       "version_major": 2,
       "version_minor": 0
      },
      "text/plain": [
       "Epoch 1:   0%|          | 0/150 [00:00<?, ?it/s]"
      ]
     },
     "metadata": {},
     "output_type": "display_data"
    },
    {
     "name": "stdout",
     "output_type": "stream",
     "text": [
      "Epoch 1 — Train Loss: 190.7794, Train Acc: 0.5038, Val Acc: 0.6558\n"
     ]
    },
    {
     "data": {
      "application/vnd.jupyter.widget-view+json": {
       "model_id": "4c56817ed27943fe8b797faa2e8ba94b",
       "version_major": 2,
       "version_minor": 0
      },
      "text/plain": [
       "Epoch 2:   0%|          | 0/150 [00:00<?, ?it/s]"
      ]
     },
     "metadata": {},
     "output_type": "display_data"
    },
    {
     "name": "stdout",
     "output_type": "stream",
     "text": [
      "Epoch 2 — Train Loss: 95.4890, Train Acc: 0.7773, Val Acc: 0.7500\n"
     ]
    },
    {
     "data": {
      "application/vnd.jupyter.widget-view+json": {
       "model_id": "1b7b4fd71d4342d2a6383cf7411e4c9c",
       "version_major": 2,
       "version_minor": 0
      },
      "text/plain": [
       "Epoch 3:   0%|          | 0/150 [00:00<?, ?it/s]"
      ]
     },
     "metadata": {},
     "output_type": "display_data"
    },
    {
     "name": "stdout",
     "output_type": "stream",
     "text": [
      "Epoch 3 — Train Loss: 44.6234, Train Acc: 0.9023, Val Acc: 0.7783\n"
     ]
    },
    {
     "data": {
      "application/vnd.jupyter.widget-view+json": {
       "model_id": "d552901d371843ec813ba1a5c33811d8",
       "version_major": 2,
       "version_minor": 0
      },
      "text/plain": [
       "Epoch 4:   0%|          | 0/150 [00:00<?, ?it/s]"
      ]
     },
     "metadata": {},
     "output_type": "display_data"
    },
    {
     "name": "stdout",
     "output_type": "stream",
     "text": [
      "Epoch 4 — Train Loss: 20.8689, Train Acc: 0.9569, Val Acc: 0.7642\n"
     ]
    },
    {
     "data": {
      "application/vnd.jupyter.widget-view+json": {
       "model_id": "292b565be9d74de4a707f32b983583d7",
       "version_major": 2,
       "version_minor": 0
      },
      "text/plain": [
       "Epoch 5:   0%|          | 0/150 [00:00<?, ?it/s]"
      ]
     },
     "metadata": {},
     "output_type": "display_data"
    },
    {
     "name": "stdout",
     "output_type": "stream",
     "text": [
      "Epoch 5 — Train Loss: 10.3469, Train Acc: 0.9794, Val Acc: 0.7767\n"
     ]
    },
    {
     "data": {
      "image/png": "[encoded data removed]",
      "text/plain": [
       "<Figure size 1400x500 with 2 Axes>"
      ]
     },
     "metadata": {},
     "output_type": "display_data"
    }
   ],
   "source": [
    "criterion = nn.CrossEntropyLoss()\n",
    "optimizer = torch.optim.Adam(model.parameters(), lr=2e-5)\n",
    "\n",
    "train_losses, val_losses, train_accuracies, val_accuracies = train_model(\n",
    "    model, train_loader, val_loader, optimizer, criterion, epochs=5\n",
    ")\n",
    "\n",
    "plot_metrics(train_losses, val_losses, train_accuracies, val_accuracies)\n"
   ]
  },
  {
   "cell_type": "markdown",
   "id": "39324aad",
   "metadata": {},
   "source": [
    "Получаем все предсказания модели на валидационном датасете"
   ]
  },
  {
   "cell_type": "code",
   "execution_count": 38,
   "id": "082c7aab",
   "metadata": {},
   "outputs": [],
   "source": [
    "# Получаем все предсказания модели на валидационном датасете\n",
    "def get_predictions(model, dataloader):\n",
    "    model.eval()\n",
    "    all_preds = []\n",
    "    all_labels = []\n",
    "\n",
    "    with torch.no_grad():\n",
    "        for batch in dataloader:\n",
    "            input_ids = batch['input_ids'].to(device)\n",
    "            attention_mask = batch['attention_mask'].to(device)\n",
    "            labels = batch['labels'].to(device)\n",
    "\n",
    "            outputs = model(input_ids, attention_mask)\n",
    "            preds = outputs.argmax(dim=1)\n",
    "\n",
    "            all_preds.extend(preds.cpu().numpy())\n",
    "            all_labels.extend(labels.cpu().numpy())\n",
    "\n",
    "    return all_preds, all_labels\n"
   ]
  },
  {
   "cell_type": "markdown",
   "id": "70cc5c2e",
   "metadata": {},
   "source": [
    "Отчеты"
   ]
  },
  {
   "cell_type": "code",
   "execution_count": 39,
   "id": "d35ce859",
   "metadata": {},
   "outputs": [
    {
     "name": "stdout",
     "output_type": "stream",
     "text": [
      "Classification Report:\n",
      "              precision    recall  f1-score   support\n",
      "\n",
      "    Bradbury       0.75      0.70      0.73       200\n",
      "    Bulgakov       0.90      0.83      0.86       200\n",
      "         Fry       0.74      0.82      0.78       200\n",
      "       Genri       0.80      0.80      0.80       200\n",
      "       Simak       0.73      0.68      0.70       200\n",
      " Strugatskie       0.75      0.82      0.78       200\n",
      "\n",
      "    accuracy                           0.78      1200\n",
      "   macro avg       0.78      0.78      0.78      1200\n",
      "weighted avg       0.78      0.78      0.78      1200\n",
      "\n"
     ]
    },
    {
     "data": {
      "image/png": "[encoded data removed]",
      "text/plain": [
       "<Figure size 800x600 with 2 Axes>"
      ]
     },
     "metadata": {},
     "output_type": "display_data"
    }
   ],
   "source": [
    "# Получаем предсказания и метки\n",
    "y_pred, y_true = get_predictions(model, val_loader)\n",
    "\n",
    "# Строим classification report\n",
    "print(\"Classification Report:\")\n",
    "print(classification_report(y_true, y_pred, target_names=label_encoder.classes_))\n",
    "\n",
    "# Строим confusion matrix\n",
    "cm = confusion_matrix(y_true, y_pred)\n",
    "\n",
    "plt.figure(figsize=(8, 6))\n",
    "sns.heatmap(cm, annot=True, fmt=\"d\", xticklabels=label_encoder.classes_, yticklabels=label_encoder.classes_, cmap=\"Blues\")\n",
    "plt.xlabel(\"Predicted\")\n",
    "plt.ylabel(\"True\")\n",
    "plt.title(\"Confusion Matrix\")\n",
    "plt.show()\n"
   ]
  },
  {
   "cell_type": "markdown",
   "id": "7fba43c1",
   "metadata": {},
   "source": [
    "Создание submission.csv"
   ]
  },
  {
   "cell_type": "code",
   "execution_count": 40,
   "id": "878d0c02",
   "metadata": {},
   "outputs": [
    {
     "data": {
      "application/vnd.microsoft.datawrangler.viewer.v0+json": {
       "columns": [
        {
         "name": "index",
         "rawType": "int64",
         "type": "integer"
        },
        {
         "name": "id",
         "rawType": "object",
         "type": "string"
        },
        {
         "name": "label",
         "rawType": "object",
         "type": "string"
        }
       ],
       "conversionMethod": "pd.DataFrame",
       "ref": "934c5269-9350-4fe9-9c64-411ecd58b601",
       "rows": [
        [
         "0",
         "author1",
         "Genri"
        ],
        [
         "1",
         "author10",
         "Bradbury"
        ],
        [
         "2",
         "author11",
         "Bulgakov"
        ],
        [
         "3",
         "author12",
         "Strugatskie"
        ],
        [
         "4",
         "author13",
         "Genri"
        ]
       ],
       "shape": {
        "columns": 2,
        "rows": 5
       }
      },
      "text/html": [
       "<div>\n",
       "<style scoped>\n",
       "    .dataframe tbody tr th:only-of-type {\n",
       "        vertical-align: middle;\n",
       "    }\n",
       "\n",
       "    .dataframe tbody tr th {\n",
       "        vertical-align: top;\n",
       "    }\n",
       "\n",
       "    .dataframe thead th {\n",
       "        text-align: right;\n",
       "    }\n",
       "</style>\n",
       "<table border=\"1\" class=\"dataframe\">\n",
       "  <thead>\n",
       "    <tr style=\"text-align: right;\">\n",
       "      <th></th>\n",
       "      <th>id</th>\n",
       "      <th>label</th>\n",
       "    </tr>\n",
       "  </thead>\n",
       "  <tbody>\n",
       "    <tr>\n",
       "      <th>0</th>\n",
       "      <td>author1</td>\n",
       "      <td>Genri</td>\n",
       "    </tr>\n",
       "    <tr>\n",
       "      <th>1</th>\n",
       "      <td>author10</td>\n",
       "      <td>Bradbury</td>\n",
       "    </tr>\n",
       "    <tr>\n",
       "      <th>2</th>\n",
       "      <td>author11</td>\n",
       "      <td>Bulgakov</td>\n",
       "    </tr>\n",
       "    <tr>\n",
       "      <th>3</th>\n",
       "      <td>author12</td>\n",
       "      <td>Strugatskie</td>\n",
       "    </tr>\n",
       "    <tr>\n",
       "      <th>4</th>\n",
       "      <td>author13</td>\n",
       "      <td>Genri</td>\n",
       "    </tr>\n",
       "  </tbody>\n",
       "</table>\n",
       "</div>"
      ],
      "text/plain": [
       "         id        label\n",
       "0   author1        Genri\n",
       "1  author10     Bradbury\n",
       "2  author11     Bulgakov\n",
       "3  author12  Strugatskie\n",
       "4  author13        Genri"
      ]
     },
     "execution_count": 40,
     "metadata": {},
     "output_type": "execute_result"
    }
   ],
   "source": [
    "def load_test_texts(folder_path):\n",
    "    test_texts = []\n",
    "    file_names = []\n",
    "\n",
    "    for fname in sorted(os.listdir(folder_path)):\n",
    "        if fname.startswith(\"author\") and fname.endswith(\".txt\"):\n",
    "            with open(os.path.join(folder_path, fname), encoding='utf-8') as f:\n",
    "                text = f.read().strip()\n",
    "                test_texts.append(text)\n",
    "                file_names.append(fname.replace(\".txt\", \"\"))\n",
    "    return file_names, test_texts\n",
    "\n",
    "def predict_author_bert(texts, model, tokenizer, max_len=256):\n",
    "    model.eval()\n",
    "    results = []\n",
    "\n",
    "    with torch.no_grad():\n",
    "        for text in texts:\n",
    "            encoded = tokenizer(\n",
    "                text,\n",
    "                padding='max_length',\n",
    "                truncation=True,\n",
    "                max_length=max_len,\n",
    "                return_tensors=\"pt\"\n",
    "            )\n",
    "            input_ids = encoded[\"input_ids\"].to(device)\n",
    "            attention_mask = encoded[\"attention_mask\"].to(device)\n",
    "\n",
    "            output = model(input_ids, attention_mask)\n",
    "            pred = torch.argmax(output, dim=1).item()\n",
    "            results.append(pred)\n",
    "\n",
    "    return results\n",
    "\n",
    "# Загружаем тексты\n",
    "test_path = \"data/\"\n",
    "file_ids, test_texts = load_test_texts(test_path)\n",
    "\n",
    "# Предсказания\n",
    "test_preds = predict_author_bert(test_texts, model, tokenizer)\n",
    "\n",
    "# Обратное преобразование индексов в имена авторов\n",
    "predicted_labels = label_encoder.inverse_transform(test_preds)\n",
    "\n",
    "# Создание submission-файла\n",
    "submission = pd.DataFrame({\n",
    "    \"id\": file_ids,\n",
    "    \"label\": predicted_labels\n",
    "})\n",
    "submission.to_csv(\"submission_BERT.csv\", index=False)\n",
    "submission.head()\n"
   ]
  }
 ],
 "metadata": {
  "kernelspec": {
   "display_name": "base",
   "language": "python",
   "name": "python3"
  },
  "language_info": {
   "codemirror_mode": {
    "name": "ipython",
    "version": 3
   },
   "file_extension": ".py",
   "mimetype": "text/x-python",
   "name": "python",
   "nbconvert_exporter": "python",
   "pygments_lexer": "ipython3",
   "version": "3.12.7"
  }
 },
 "nbformat": 4,
 "nbformat_minor": 5
}
