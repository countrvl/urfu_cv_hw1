{
 "cells": [
  {
   "cell_type": "markdown",
   "id": "4e033e17",
   "metadata": {},
   "source": [
    "Импорты и конфигурация"
   ]
  },
  {
   "cell_type": "code",
   "execution_count": 8,
   "id": "d405a4e1",
   "metadata": {},
   "outputs": [],
   "source": [
    "import os\n",
    "import re\n",
    "import pandas as pd\n",
    "from collections import defaultdict\n",
    "from sklearn.utils import shuffle\n",
    "from sklearn.preprocessing import LabelEncoder\n",
    "from sklearn.model_selection import train_test_split\n",
    "from sklearn.metrics import classification_report, confusion_matrix\n",
    "import matplotlib.pyplot as plt\n",
    "import seaborn as sns\n",
    "\n",
    "import torch\n",
    "from torch.utils.data import Dataset\n",
    "from torch.utils.data import DataLoader\n",
    "import torch.nn as nn\n",
    "import torch.nn.functional as F\n",
    "from sklearn.metrics import accuracy_score\n",
    "from tqdm import tqdm\n",
    "\n",
    "DATA_DIR = 'data/'"
   ]
  },
  {
   "cell_type": "markdown",
   "id": "a63c2cfa",
   "metadata": {},
   "source": [
    "Очистка текста и фрагментация"
   ]
  },
  {
   "cell_type": "code",
   "execution_count": 9,
   "id": "5d533c37",
   "metadata": {},
   "outputs": [],
   "source": [
    "def clean_text(text):\n",
    "    text = text.lower()\n",
    "    text = re.sub(r'[^а-яa-z. ]+', '', text)\n",
    "    text = re.sub(r'\\s+', ' ', text)\n",
    "    return text.strip()\n",
    "\n",
    "def split_into_chunks(text, max_chunk_len=300):\n",
    "    sentences = re.split(r'\\.\\s+', text)\n",
    "    chunks = []\n",
    "    chunk = \"\"\n",
    "\n",
    "    for sent in sentences:\n",
    "        if len(chunk) + len(sent) <= max_chunk_len:\n",
    "            chunk += sent + '. '\n",
    "        else:\n",
    "            if len(chunk.strip()) > 50:\n",
    "                chunks.append(chunk.strip())\n",
    "            chunk = sent + '. '\n",
    "\n",
    "    if len(chunk.strip()) > 50:\n",
    "        chunks.append(chunk.strip())\n",
    "\n",
    "    return chunks\n"
   ]
  },
  {
   "cell_type": "markdown",
   "id": "02b81033",
   "metadata": {},
   "source": [
    "Сбор и балансировка данных"
   ]
  },
  {
   "cell_type": "code",
   "execution_count": 10,
   "id": "3d635a9f",
   "metadata": {},
   "outputs": [],
   "source": [
    "def read_all_authors_balanced(data_dir, max_samples_per_author=500):\n",
    "    data = defaultdict(list)\n",
    "\n",
    "    for fname in os.listdir(data_dir):\n",
    "        if fname.endswith(\".txt\") and not fname.startswith(\"author\"):\n",
    "            author = fname.replace(\".txt\", \"\")\n",
    "            fpath = os.path.join(data_dir, fname)\n",
    "            with open(fpath, 'r', encoding='utf-8') as f:\n",
    "                raw = f.read()\n",
    "\n",
    "            cleaned = clean_text(raw)\n",
    "            chunks = split_into_chunks(cleaned, max_chunk_len=300)\n",
    "            chunks = chunks[:max_samples_per_author]\n",
    "\n",
    "            data['text'].extend(chunks)\n",
    "            data['author'].extend([author] * len(chunks))\n",
    "\n",
    "    df = pd.DataFrame(data)\n",
    "    df = shuffle(df, random_state=42).reset_index(drop=True)\n",
    "    return df\n"
   ]
  },
  {
   "cell_type": "markdown",
   "id": "d64045ed",
   "metadata": {},
   "source": [
    "Построение словаря и кодирование текста"
   ]
  },
  {
   "cell_type": "code",
   "execution_count": 11,
   "id": "f990def1",
   "metadata": {},
   "outputs": [],
   "source": [
    "def build_vocab(texts, min_freq=1):\n",
    "    word_freq = defaultdict(int)\n",
    "    for text in texts:\n",
    "        for word in text.split():\n",
    "            word_freq[word] += 1\n",
    "\n",
    "    vocab = {word: idx + 2 for idx, (word, freq) in enumerate(word_freq.items()) if freq >= min_freq}\n",
    "    vocab['<PAD>'] = 0\n",
    "    vocab['<UNK>'] = 1\n",
    "    return vocab\n",
    "\n",
    "def encode_text(text, vocab, max_len):\n",
    "    encoded = [vocab.get(word, vocab['<UNK>']) for word in text.split()]\n",
    "    if len(encoded) < max_len:\n",
    "        encoded += [vocab['<PAD>']] * (max_len - len(encoded))\n",
    "    else:\n",
    "        encoded = encoded[:max_len]\n",
    "    return encoded\n"
   ]
  },
  {
   "cell_type": "markdown",
   "id": "d53a2e8a",
   "metadata": {},
   "source": [
    "Кастомный Dataset и сборка финальной выборки"
   ]
  },
  {
   "cell_type": "code",
   "execution_count": 12,
   "id": "1015df1e",
   "metadata": {},
   "outputs": [],
   "source": [
    "class TextDataset(Dataset):\n",
    "    def __init__(self, texts, labels, vocab, max_len):\n",
    "        self.texts = texts\n",
    "        self.labels = labels\n",
    "        self.vocab = vocab\n",
    "        self.max_len = max_len\n",
    "\n",
    "    def __len__(self):\n",
    "        return len(self.texts)\n",
    "\n",
    "    def __getitem__(self, idx):\n",
    "        x = encode_text(self.texts[idx], self.vocab, self.max_len)\n",
    "        y = self.labels[idx]\n",
    "        return torch.tensor(x, dtype=torch.long), torch.tensor(y, dtype=torch.long)\n",
    "\n",
    "def prepare_dataset(df, max_len=200):\n",
    "    le = LabelEncoder()\n",
    "    df['label'] = le.fit_transform(df['author'])\n",
    "    vocab = build_vocab(df['text'])\n",
    "    dataset = TextDataset(df['text'].tolist(), df['label'].tolist(), vocab, max_len)\n",
    "    return dataset, vocab, le\n"
   ]
  },
  {
   "cell_type": "code",
   "execution_count": 13,
   "id": "1d0a3a7f",
   "metadata": {},
   "outputs": [
    {
     "data": {
      "image/png": "[encoded data removed]",
      "text/plain": [
       "<Figure size 1000x400 with 1 Axes>"
      ]
     },
     "metadata": {},
     "output_type": "display_data"
    },
    {
     "name": "stdout",
     "output_type": "stream",
     "text": [
      "Пример текста: а я тебя ни о чем не спрашиваю пока.драмба промолчал.они шагали через степь все больше уклоняясь от прямой дороги к дому потому что гагу стало вдруг интересно посмотреть что за сооружение торчит на небольшом холме справа.\n",
      "Токенизированный: tensor([ 2,  3,  4,  5,  6,  7,  8,  9, 10, 11, 12, 13, 14, 15, 16, 17, 18, 19,\n",
      "        20, 21, 22, 23, 24, 25, 26, 27, 28, 29, 24, 30, 31, 32, 33, 34, 35, 36,\n",
      "         0,  0,  0,  0,  0,  0,  0,  0,  0,  0,  0,  0,  0,  0,  0,  0,  0,  0,\n",
      "         0,  0,  0,  0,  0,  0,  0,  0,  0,  0,  0,  0,  0,  0,  0,  0,  0,  0,\n",
      "         0,  0,  0,  0,  0,  0,  0,  0,  0,  0,  0,  0,  0,  0,  0,  0,  0,  0,\n",
      "         0,  0,  0,  0,  0,  0,  0,  0,  0,  0])\n",
      "Метка (label): tensor(5)\n"
     ]
    }
   ],
   "source": [
    "df = read_all_authors_balanced(DATA_DIR, max_samples_per_author=500)\n",
    "df.head()\n",
    "\n",
    "plt.figure(figsize=(10, 4))\n",
    "sns.countplot(data=df, x='author', order=df['author'].value_counts().index)\n",
    "plt.title(\"Баланс классов\")\n",
    "plt.xticks(rotation=45)\n",
    "plt.show()\n",
    "\n",
    "dataset, vocab, label_encoder = prepare_dataset(df, max_len=100)\n",
    "\n",
    "# Проверка одного примера\n",
    "print(\"Пример текста:\", df.iloc[0]['text'])\n",
    "print(\"Токенизированный:\", dataset[0][0])\n",
    "print(\"Метка (label):\", dataset[0][1])\n"
   ]
  },
  {
   "cell_type": "markdown",
   "id": "2e3d50e1",
   "metadata": {},
   "source": []
  },
  {
   "cell_type": "markdown",
   "id": "456e09b5",
   "metadata": {},
   "source": [
    "Разделение на train / validation и DataLoader"
   ]
  },
  {
   "cell_type": "code",
   "execution_count": 14,
   "id": "863dec54",
   "metadata": {},
   "outputs": [],
   "source": [
    "# Загружаем и подготавливаем\n",
    "train_df, val_df = train_test_split(df, test_size=0.2, stratify=df['author'], random_state=42)\n",
    "\n",
    "# Строим датасеты\n",
    "train_dataset, vocab, label_encoder = prepare_dataset(train_df, max_len=100)\n",
    "val_dataset = TextDataset(val_df['text'].tolist(), \n",
    "                          label_encoder.transform(val_df['author']), \n",
    "                          vocab, max_len=100)\n",
    "\n",
    "batch_size = 64\n",
    "\n",
    "train_loader = DataLoader(train_dataset, batch_size=batch_size, shuffle=True)\n",
    "val_loader = DataLoader(val_dataset, batch_size=batch_size, shuffle=False)"
   ]
  },
  {
   "cell_type": "markdown",
   "id": "eda491e5",
   "metadata": {},
   "source": [
    "Модель на LSTM (PyTorch)"
   ]
  },
  {
   "cell_type": "code",
   "execution_count": 15,
   "id": "f9f97ccf",
   "metadata": {},
   "outputs": [],
   "source": [
    "class LSTMClassifier(nn.Module):\n",
    "    def __init__(self, vocab_size, embedding_dim, hidden_dim, output_dim, padding_idx, dropout=0.3):\n",
    "        super(LSTMClassifier, self).__init__()\n",
    "        self.embedding = nn.Embedding(vocab_size, embedding_dim, padding_idx=padding_idx)\n",
    "        self.lstm = nn.LSTM(embedding_dim, hidden_dim, batch_first=True, bidirectional=True)\n",
    "        self.dropout = nn.Dropout(dropout)\n",
    "        self.fc = nn.Linear(hidden_dim * 2, output_dim)\n",
    "\n",
    "    def forward(self, x):  # <== ОБЯЗАТЕЛЬНО внутри класса, с отступом\n",
    "        embedded = self.embedding(x)\n",
    "        _, (hidden, _) = self.lstm(embedded)\n",
    "\n",
    "        # объединяем два направления\n",
    "        hidden = torch.cat((hidden[0], hidden[1]), dim=1)\n",
    "        out = self.dropout(hidden)\n",
    "        return self.fc(out)\n"
   ]
  },
  {
   "cell_type": "code",
   "execution_count": 16,
   "id": "324e090e",
   "metadata": {},
   "outputs": [
    {
     "name": "stdout",
     "output_type": "stream",
     "text": [
      "Using device: cuda\n",
      "LSTMClassifier(\n",
      "  (embedding): Embedding(27360, 200, padding_idx=0)\n",
      "  (lstm): LSTM(200, 128, batch_first=True, bidirectional=True)\n",
      "  (dropout): Dropout(p=0.3, inplace=False)\n",
      "  (fc): Linear(in_features=256, out_features=6, bias=True)\n",
      ")\n"
     ]
    }
   ],
   "source": [
    "device = torch.device(\"cuda\" if torch.cuda.is_available() else \"cpu\")\n",
    "print(\"Using device:\", device)\n",
    "\n",
    "embedding_dim = 200\n",
    "hidden_dim = 128\n",
    "output_dim = len(label_encoder.classes_)\n",
    "padding_idx = vocab['<PAD>']\n",
    "\n",
    "model = LSTMClassifier(\n",
    "    vocab_size=len(vocab),\n",
    "    embedding_dim=embedding_dim,\n",
    "    hidden_dim=hidden_dim,\n",
    "    output_dim=output_dim,\n",
    "    padding_idx=padding_idx,\n",
    "    dropout=0.3\n",
    ").to(device)\n",
    "\n",
    "print(model)\n"
   ]
  },
  {
   "cell_type": "markdown",
   "id": "6095accc",
   "metadata": {},
   "source": [
    "Обучение модели + валидация"
   ]
  },
  {
   "cell_type": "code",
   "execution_count": 17,
   "id": "8a1845a1",
   "metadata": {},
   "outputs": [],
   "source": [
    "def train_model(model, train_loader, val_loader, optimizer, criterion, epochs=10):\n",
    "    history = {\n",
    "        'train_loss': [],\n",
    "        'train_acc': [],\n",
    "        'val_acc': []\n",
    "    }\n",
    "\n",
    "    for epoch in range(1, epochs + 1):\n",
    "        model.train()\n",
    "        train_losses = []\n",
    "        true_labels = []\n",
    "        pred_labels = []\n",
    "\n",
    "        for batch in tqdm(train_loader, desc=f\"Epoch {epoch}\"):\n",
    "            x_batch, y_batch = [b.to(device) for b in batch]\n",
    "\n",
    "            optimizer.zero_grad()\n",
    "            logits = model(x_batch)\n",
    "            loss = criterion(logits, y_batch)\n",
    "            loss.backward()\n",
    "            optimizer.step()\n",
    "\n",
    "            train_losses.append(loss.item())\n",
    "            preds = torch.argmax(logits, dim=1)\n",
    "            true_labels.extend(y_batch.cpu().numpy())\n",
    "            pred_labels.extend(preds.cpu().numpy())\n",
    "\n",
    "        train_acc = accuracy_score(true_labels, pred_labels)\n",
    "        avg_loss = sum(train_losses) / len(train_losses)\n",
    "        val_acc = evaluate_model(model, val_loader)\n",
    "\n",
    "        history['train_loss'].append(avg_loss)\n",
    "        history['train_acc'].append(train_acc)\n",
    "        history['val_acc'].append(val_acc)\n",
    "\n",
    "        print(f\"Epoch {epoch} — Train Loss: {avg_loss:.4f}, Train Acc: {train_acc:.4f}, Val Acc: {val_acc:.4f}\")\n",
    "\n",
    "    # Визуализация\n",
    "    plt.figure(figsize=(14, 5))\n",
    "\n",
    "    plt.subplot(1, 2, 1)\n",
    "    plt.plot(history['train_loss'], label='Train Loss')\n",
    "    plt.title('Train Loss over Epochs')\n",
    "    plt.xlabel('Epoch')\n",
    "    plt.ylabel('Loss')\n",
    "    plt.grid(True)\n",
    "    plt.legend()\n",
    "\n",
    "    plt.subplot(1, 2, 2)\n",
    "    plt.plot(history['train_acc'], label='Train Accuracy')\n",
    "    plt.plot(history['val_acc'], label='Validation Accuracy')\n",
    "    plt.title('Accuracy over Epochs')\n",
    "    plt.xlabel('Epoch')\n",
    "    plt.ylabel('Accuracy')\n",
    "    plt.grid(True)\n",
    "    plt.legend()\n",
    "\n",
    "    plt.tight_layout()\n",
    "    plt.show()\n",
    "\n",
    "    return history"
   ]
  },
  {
   "cell_type": "code",
   "execution_count": 18,
   "id": "97be76ae",
   "metadata": {},
   "outputs": [],
   "source": [
    "def evaluate_model(model, val_loader):\n",
    "    model.eval()\n",
    "    all_preds = []\n",
    "    all_labels = []\n",
    "\n",
    "    with torch.no_grad():\n",
    "        for x_batch, y_batch in val_loader:\n",
    "            x_batch, y_batch = x_batch.to(device), y_batch.to(device)\n",
    "            outputs = model(x_batch)\n",
    "            preds = torch.argmax(outputs, dim=1)\n",
    "            all_preds.extend(preds.cpu().numpy())\n",
    "            all_labels.extend(y_batch.cpu().numpy())\n",
    "\n",
    "    return accuracy_score(all_labels, all_preds)\n"
   ]
  },
  {
   "cell_type": "code",
   "execution_count": 19,
   "id": "e8348f8e",
   "metadata": {},
   "outputs": [
    {
     "name": "stderr",
     "output_type": "stream",
     "text": [
      "Epoch 1: 100%|██████████| 38/38 [00:00<00:00, 74.89it/s]\n"
     ]
    },
    {
     "name": "stdout",
     "output_type": "stream",
     "text": [
      "Epoch 1 — Train Loss: 1.7821, Train Acc: 0.1913, Val Acc: 0.2667\n"
     ]
    },
    {
     "name": "stderr",
     "output_type": "stream",
     "text": [
      "Epoch 2: 100%|██████████| 38/38 [00:00<00:00, 160.03it/s]\n"
     ]
    },
    {
     "name": "stdout",
     "output_type": "stream",
     "text": [
      "Epoch 2 — Train Loss: 1.6889, Train Acc: 0.3879, Val Acc: 0.2850\n"
     ]
    },
    {
     "name": "stderr",
     "output_type": "stream",
     "text": [
      "Epoch 3: 100%|██████████| 38/38 [00:00<00:00, 184.87it/s]\n"
     ]
    },
    {
     "name": "stdout",
     "output_type": "stream",
     "text": [
      "Epoch 3 — Train Loss: 1.4779, Train Acc: 0.4725, Val Acc: 0.3167\n"
     ]
    },
    {
     "name": "stderr",
     "output_type": "stream",
     "text": [
      "Epoch 4: 100%|██████████| 38/38 [00:00<00:00, 189.58it/s]\n"
     ]
    },
    {
     "name": "stdout",
     "output_type": "stream",
     "text": [
      "Epoch 4 — Train Loss: 1.1726, Train Acc: 0.6092, Val Acc: 0.3583\n"
     ]
    },
    {
     "name": "stderr",
     "output_type": "stream",
     "text": [
      "Epoch 5: 100%|██████████| 38/38 [00:00<00:00, 203.57it/s]\n"
     ]
    },
    {
     "name": "stdout",
     "output_type": "stream",
     "text": [
      "Epoch 5 — Train Loss: 0.8448, Train Acc: 0.7300, Val Acc: 0.3317\n"
     ]
    },
    {
     "name": "stderr",
     "output_type": "stream",
     "text": [
      "Epoch 6: 100%|██████████| 38/38 [00:00<00:00, 200.41it/s]\n"
     ]
    },
    {
     "name": "stdout",
     "output_type": "stream",
     "text": [
      "Epoch 6 — Train Loss: 0.5119, Train Acc: 0.8479, Val Acc: 0.3033\n"
     ]
    },
    {
     "name": "stderr",
     "output_type": "stream",
     "text": [
      "Epoch 7: 100%|██████████| 38/38 [00:00<00:00, 207.57it/s]\n"
     ]
    },
    {
     "name": "stdout",
     "output_type": "stream",
     "text": [
      "Epoch 7 — Train Loss: 0.3029, Train Acc: 0.9237, Val Acc: 0.3900\n"
     ]
    },
    {
     "name": "stderr",
     "output_type": "stream",
     "text": [
      "Epoch 8: 100%|██████████| 38/38 [00:00<00:00, 206.56it/s]\n"
     ]
    },
    {
     "name": "stdout",
     "output_type": "stream",
     "text": [
      "Epoch 8 — Train Loss: 0.1611, Train Acc: 0.9621, Val Acc: 0.3867\n"
     ]
    },
    {
     "name": "stderr",
     "output_type": "stream",
     "text": [
      "Epoch 9: 100%|██████████| 38/38 [00:00<00:00, 195.52it/s]\n"
     ]
    },
    {
     "name": "stdout",
     "output_type": "stream",
     "text": [
      "Epoch 9 — Train Loss: 0.0978, Train Acc: 0.9821, Val Acc: 0.3817\n"
     ]
    },
    {
     "name": "stderr",
     "output_type": "stream",
     "text": [
      "Epoch 10: 100%|██████████| 38/38 [00:00<00:00, 200.89it/s]\n"
     ]
    },
    {
     "name": "stdout",
     "output_type": "stream",
     "text": [
      "Epoch 10 — Train Loss: 0.0867, Train Acc: 0.9883, Val Acc: 0.4200\n"
     ]
    },
    {
     "name": "stderr",
     "output_type": "stream",
     "text": [
      "Epoch 11: 100%|██████████| 38/38 [00:00<00:00, 196.41it/s]\n"
     ]
    },
    {
     "name": "stdout",
     "output_type": "stream",
     "text": [
      "Epoch 11 — Train Loss: 0.0398, Train Acc: 0.9946, Val Acc: 0.3567\n"
     ]
    },
    {
     "name": "stderr",
     "output_type": "stream",
     "text": [
      "Epoch 12: 100%|██████████| 38/38 [00:00<00:00, 202.29it/s]\n"
     ]
    },
    {
     "name": "stdout",
     "output_type": "stream",
     "text": [
      "Epoch 12 — Train Loss: 0.0369, Train Acc: 0.9975, Val Acc: 0.4517\n"
     ]
    },
    {
     "name": "stderr",
     "output_type": "stream",
     "text": [
      "Epoch 13: 100%|██████████| 38/38 [00:00<00:00, 198.15it/s]\n"
     ]
    },
    {
     "name": "stdout",
     "output_type": "stream",
     "text": [
      "Epoch 13 — Train Loss: 0.0231, Train Acc: 0.9983, Val Acc: 0.3717\n"
     ]
    },
    {
     "name": "stderr",
     "output_type": "stream",
     "text": [
      "Epoch 14: 100%|██████████| 38/38 [00:00<00:00, 198.94it/s]\n"
     ]
    },
    {
     "name": "stdout",
     "output_type": "stream",
     "text": [
      "Epoch 14 — Train Loss: 0.0172, Train Acc: 0.9992, Val Acc: 0.3917\n"
     ]
    },
    {
     "name": "stderr",
     "output_type": "stream",
     "text": [
      "Epoch 15: 100%|██████████| 38/38 [00:00<00:00, 205.68it/s]\n"
     ]
    },
    {
     "name": "stdout",
     "output_type": "stream",
     "text": [
      "Epoch 15 — Train Loss: 0.0087, Train Acc: 1.0000, Val Acc: 0.3867\n"
     ]
    },
    {
     "name": "stderr",
     "output_type": "stream",
     "text": [
      "Epoch 16: 100%|██████████| 38/38 [00:00<00:00, 197.15it/s]\n"
     ]
    },
    {
     "name": "stdout",
     "output_type": "stream",
     "text": [
      "Epoch 16 — Train Loss: 0.0068, Train Acc: 1.0000, Val Acc: 0.3717\n"
     ]
    },
    {
     "name": "stderr",
     "output_type": "stream",
     "text": [
      "Epoch 17: 100%|██████████| 38/38 [00:00<00:00, 165.92it/s]\n"
     ]
    },
    {
     "name": "stdout",
     "output_type": "stream",
     "text": [
      "Epoch 17 — Train Loss: 0.0044, Train Acc: 1.0000, Val Acc: 0.3750\n"
     ]
    },
    {
     "name": "stderr",
     "output_type": "stream",
     "text": [
      "Epoch 18: 100%|██████████| 38/38 [00:00<00:00, 179.24it/s]\n"
     ]
    },
    {
     "name": "stdout",
     "output_type": "stream",
     "text": [
      "Epoch 18 — Train Loss: 0.0034, Train Acc: 1.0000, Val Acc: 0.3767\n"
     ]
    },
    {
     "name": "stderr",
     "output_type": "stream",
     "text": [
      "Epoch 19: 100%|██████████| 38/38 [00:00<00:00, 191.40it/s]\n"
     ]
    },
    {
     "name": "stdout",
     "output_type": "stream",
     "text": [
      "Epoch 19 — Train Loss: 0.0030, Train Acc: 1.0000, Val Acc: 0.3750\n"
     ]
    },
    {
     "name": "stderr",
     "output_type": "stream",
     "text": [
      "Epoch 20: 100%|██████████| 38/38 [00:00<00:00, 186.21it/s]\n"
     ]
    },
    {
     "name": "stdout",
     "output_type": "stream",
     "text": [
      "Epoch 20 — Train Loss: 0.0025, Train Acc: 1.0000, Val Acc: 0.3783\n"
     ]
    },
    {
     "name": "stderr",
     "output_type": "stream",
     "text": [
      "Epoch 21: 100%|██████████| 38/38 [00:00<00:00, 192.09it/s]\n"
     ]
    },
    {
     "name": "stdout",
     "output_type": "stream",
     "text": [
      "Epoch 21 — Train Loss: 0.0023, Train Acc: 1.0000, Val Acc: 0.3767\n"
     ]
    },
    {
     "name": "stderr",
     "output_type": "stream",
     "text": [
      "Epoch 22: 100%|██████████| 38/38 [00:00<00:00, 192.33it/s]\n"
     ]
    },
    {
     "name": "stdout",
     "output_type": "stream",
     "text": [
      "Epoch 22 — Train Loss: 0.0019, Train Acc: 1.0000, Val Acc: 0.3783\n"
     ]
    },
    {
     "name": "stderr",
     "output_type": "stream",
     "text": [
      "Epoch 23: 100%|██████████| 38/38 [00:00<00:00, 198.31it/s]\n"
     ]
    },
    {
     "name": "stdout",
     "output_type": "stream",
     "text": [
      "Epoch 23 — Train Loss: 0.0015, Train Acc: 1.0000, Val Acc: 0.3783\n"
     ]
    },
    {
     "name": "stderr",
     "output_type": "stream",
     "text": [
      "Epoch 24: 100%|██████████| 38/38 [00:00<00:00, 168.61it/s]\n"
     ]
    },
    {
     "name": "stdout",
     "output_type": "stream",
     "text": [
      "Epoch 24 — Train Loss: 0.0016, Train Acc: 1.0000, Val Acc: 0.3800\n"
     ]
    },
    {
     "name": "stderr",
     "output_type": "stream",
     "text": [
      "Epoch 25: 100%|██████████| 38/38 [00:00<00:00, 176.79it/s]\n"
     ]
    },
    {
     "name": "stdout",
     "output_type": "stream",
     "text": [
      "Epoch 25 — Train Loss: 0.0014, Train Acc: 1.0000, Val Acc: 0.3700\n"
     ]
    },
    {
     "name": "stderr",
     "output_type": "stream",
     "text": [
      "Epoch 26: 100%|██████████| 38/38 [00:00<00:00, 169.95it/s]\n"
     ]
    },
    {
     "name": "stdout",
     "output_type": "stream",
     "text": [
      "Epoch 26 — Train Loss: 0.0132, Train Acc: 0.9950, Val Acc: 0.3717\n"
     ]
    },
    {
     "name": "stderr",
     "output_type": "stream",
     "text": [
      "Epoch 27: 100%|██████████| 38/38 [00:00<00:00, 187.52it/s]\n"
     ]
    },
    {
     "name": "stdout",
     "output_type": "stream",
     "text": [
      "Epoch 27 — Train Loss: 0.0784, Train Acc: 0.9792, Val Acc: 0.4050\n"
     ]
    },
    {
     "name": "stderr",
     "output_type": "stream",
     "text": [
      "Epoch 28: 100%|██████████| 38/38 [00:00<00:00, 162.22it/s]\n"
     ]
    },
    {
     "name": "stdout",
     "output_type": "stream",
     "text": [
      "Epoch 28 — Train Loss: 0.0189, Train Acc: 0.9967, Val Acc: 0.3783\n"
     ]
    },
    {
     "name": "stderr",
     "output_type": "stream",
     "text": [
      "Epoch 29: 100%|██████████| 38/38 [00:00<00:00, 191.89it/s]\n"
     ]
    },
    {
     "name": "stdout",
     "output_type": "stream",
     "text": [
      "Epoch 29 — Train Loss: 0.0069, Train Acc: 0.9992, Val Acc: 0.3717\n"
     ]
    },
    {
     "name": "stderr",
     "output_type": "stream",
     "text": [
      "Epoch 30: 100%|██████████| 38/38 [00:00<00:00, 182.95it/s]\n"
     ]
    },
    {
     "name": "stdout",
     "output_type": "stream",
     "text": [
      "Epoch 30 — Train Loss: 0.0062, Train Acc: 0.9996, Val Acc: 0.3717\n"
     ]
    },
    {
     "name": "stderr",
     "output_type": "stream",
     "text": [
      "Epoch 31: 100%|██████████| 38/38 [00:00<00:00, 184.03it/s]\n"
     ]
    },
    {
     "name": "stdout",
     "output_type": "stream",
     "text": [
      "Epoch 31 — Train Loss: 0.0028, Train Acc: 1.0000, Val Acc: 0.3717\n"
     ]
    },
    {
     "name": "stderr",
     "output_type": "stream",
     "text": [
      "Epoch 32: 100%|██████████| 38/38 [00:00<00:00, 183.14it/s]\n"
     ]
    },
    {
     "name": "stdout",
     "output_type": "stream",
     "text": [
      "Epoch 32 — Train Loss: 0.0019, Train Acc: 1.0000, Val Acc: 0.3700\n"
     ]
    },
    {
     "name": "stderr",
     "output_type": "stream",
     "text": [
      "Epoch 33: 100%|██████████| 38/38 [00:00<00:00, 171.56it/s]\n"
     ]
    },
    {
     "name": "stdout",
     "output_type": "stream",
     "text": [
      "Epoch 33 — Train Loss: 0.0016, Train Acc: 1.0000, Val Acc: 0.3717\n"
     ]
    },
    {
     "name": "stderr",
     "output_type": "stream",
     "text": [
      "Epoch 34: 100%|██████████| 38/38 [00:00<00:00, 178.82it/s]\n"
     ]
    },
    {
     "name": "stdout",
     "output_type": "stream",
     "text": [
      "Epoch 34 — Train Loss: 0.0013, Train Acc: 1.0000, Val Acc: 0.3733\n"
     ]
    },
    {
     "name": "stderr",
     "output_type": "stream",
     "text": [
      "Epoch 35: 100%|██████████| 38/38 [00:00<00:00, 186.96it/s]\n"
     ]
    },
    {
     "name": "stdout",
     "output_type": "stream",
     "text": [
      "Epoch 35 — Train Loss: 0.0012, Train Acc: 1.0000, Val Acc: 0.3800\n"
     ]
    },
    {
     "name": "stderr",
     "output_type": "stream",
     "text": [
      "Epoch 36: 100%|██████████| 38/38 [00:00<00:00, 181.59it/s]\n"
     ]
    },
    {
     "name": "stdout",
     "output_type": "stream",
     "text": [
      "Epoch 36 — Train Loss: 0.0010, Train Acc: 1.0000, Val Acc: 0.3750\n"
     ]
    },
    {
     "name": "stderr",
     "output_type": "stream",
     "text": [
      "Epoch 37: 100%|██████████| 38/38 [00:00<00:00, 193.75it/s]\n"
     ]
    },
    {
     "name": "stdout",
     "output_type": "stream",
     "text": [
      "Epoch 37 — Train Loss: 0.0009, Train Acc: 1.0000, Val Acc: 0.3733\n"
     ]
    },
    {
     "name": "stderr",
     "output_type": "stream",
     "text": [
      "Epoch 38: 100%|██████████| 38/38 [00:00<00:00, 198.98it/s]\n"
     ]
    },
    {
     "name": "stdout",
     "output_type": "stream",
     "text": [
      "Epoch 38 — Train Loss: 0.0008, Train Acc: 1.0000, Val Acc: 0.3717\n"
     ]
    },
    {
     "name": "stderr",
     "output_type": "stream",
     "text": [
      "Epoch 39: 100%|██████████| 38/38 [00:00<00:00, 198.25it/s]\n"
     ]
    },
    {
     "name": "stdout",
     "output_type": "stream",
     "text": [
      "Epoch 39 — Train Loss: 0.0007, Train Acc: 1.0000, Val Acc: 0.3700\n"
     ]
    },
    {
     "name": "stderr",
     "output_type": "stream",
     "text": [
      "Epoch 40: 100%|██████████| 38/38 [00:00<00:00, 188.72it/s]\n"
     ]
    },
    {
     "name": "stdout",
     "output_type": "stream",
     "text": [
      "Epoch 40 — Train Loss: 0.0007, Train Acc: 1.0000, Val Acc: 0.3700\n"
     ]
    },
    {
     "name": "stderr",
     "output_type": "stream",
     "text": [
      "Epoch 41: 100%|██████████| 38/38 [00:00<00:00, 199.15it/s]\n"
     ]
    },
    {
     "name": "stdout",
     "output_type": "stream",
     "text": [
      "Epoch 41 — Train Loss: 0.0007, Train Acc: 1.0000, Val Acc: 0.3700\n"
     ]
    },
    {
     "name": "stderr",
     "output_type": "stream",
     "text": [
      "Epoch 42: 100%|██████████| 38/38 [00:00<00:00, 181.69it/s]\n"
     ]
    },
    {
     "name": "stdout",
     "output_type": "stream",
     "text": [
      "Epoch 42 — Train Loss: 0.0006, Train Acc: 1.0000, Val Acc: 0.3667\n"
     ]
    },
    {
     "name": "stderr",
     "output_type": "stream",
     "text": [
      "Epoch 43: 100%|██████████| 38/38 [00:00<00:00, 191.26it/s]\n"
     ]
    },
    {
     "name": "stdout",
     "output_type": "stream",
     "text": [
      "Epoch 43 — Train Loss: 0.0006, Train Acc: 1.0000, Val Acc: 0.3650\n"
     ]
    },
    {
     "name": "stderr",
     "output_type": "stream",
     "text": [
      "Epoch 44: 100%|██████████| 38/38 [00:00<00:00, 191.13it/s]\n"
     ]
    },
    {
     "name": "stdout",
     "output_type": "stream",
     "text": [
      "Epoch 44 — Train Loss: 0.0005, Train Acc: 1.0000, Val Acc: 0.3650\n"
     ]
    },
    {
     "name": "stderr",
     "output_type": "stream",
     "text": [
      "Epoch 45: 100%|██████████| 38/38 [00:00<00:00, 183.80it/s]\n"
     ]
    },
    {
     "name": "stdout",
     "output_type": "stream",
     "text": [
      "Epoch 45 — Train Loss: 0.0005, Train Acc: 1.0000, Val Acc: 0.3667\n"
     ]
    },
    {
     "name": "stderr",
     "output_type": "stream",
     "text": [
      "Epoch 46: 100%|██████████| 38/38 [00:00<00:00, 197.18it/s]\n"
     ]
    },
    {
     "name": "stdout",
     "output_type": "stream",
     "text": [
      "Epoch 46 — Train Loss: 0.0005, Train Acc: 1.0000, Val Acc: 0.3617\n"
     ]
    },
    {
     "name": "stderr",
     "output_type": "stream",
     "text": [
      "Epoch 47: 100%|██████████| 38/38 [00:00<00:00, 184.66it/s]\n"
     ]
    },
    {
     "name": "stdout",
     "output_type": "stream",
     "text": [
      "Epoch 47 — Train Loss: 0.0462, Train Acc: 0.9879, Val Acc: 0.3217\n"
     ]
    },
    {
     "name": "stderr",
     "output_type": "stream",
     "text": [
      "Epoch 48: 100%|██████████| 38/38 [00:00<00:00, 184.45it/s]\n"
     ]
    },
    {
     "name": "stdout",
     "output_type": "stream",
     "text": [
      "Epoch 48 — Train Loss: 0.0303, Train Acc: 0.9912, Val Acc: 0.3717\n"
     ]
    },
    {
     "name": "stderr",
     "output_type": "stream",
     "text": [
      "Epoch 49: 100%|██████████| 38/38 [00:00<00:00, 178.67it/s]\n"
     ]
    },
    {
     "name": "stdout",
     "output_type": "stream",
     "text": [
      "Epoch 49 — Train Loss: 0.0168, Train Acc: 0.9971, Val Acc: 0.3883\n"
     ]
    },
    {
     "name": "stderr",
     "output_type": "stream",
     "text": [
      "Epoch 50: 100%|██████████| 38/38 [00:00<00:00, 174.09it/s]\n"
     ]
    },
    {
     "name": "stdout",
     "output_type": "stream",
     "text": [
      "Epoch 50 — Train Loss: 0.0029, Train Acc: 0.9996, Val Acc: 0.3700\n"
     ]
    },
    {
     "data": {
      "image/png": "[encoded data removed]",
      "text/plain": [
       "<Figure size 1400x500 with 2 Axes>"
      ]
     },
     "metadata": {},
     "output_type": "display_data"
    },
    {
     "data": {
      "text/plain": [
       "{'train_loss': [1.782077525791369,\n",
       "  1.6889104968623112,\n",
       "  1.4778893621344316,\n",
       "  1.1726020417715375,\n",
       "  0.8447832763195038,\n",
       "  0.5119217477346721,\n",
       "  0.3029135249947247,\n",
       "  0.16106264881397547,\n",
       "  0.09779105286457036,\n",
       "  0.08665542529993936,\n",
       "  0.03979933100115312,\n",
       "  0.03690443136484215,\n",
       "  0.023076023600113234,\n",
       "  0.01721424111900361,\n",
       "  0.008718156905256604,\n",
       "  0.006778702850600607,\n",
       "  0.004422255571147329,\n",
       "  0.003416458466457889,\n",
       "  0.0030268323914098894,\n",
       "  0.002472561615592751,\n",
       "  0.0022669642838943553,\n",
       "  0.001856665614085566,\n",
       "  0.0015342224306598502,\n",
       "  0.0016006403051218704,\n",
       "  0.001375263504757497,\n",
       "  0.013212347681952738,\n",
       "  0.0783840743089585,\n",
       "  0.018912593552254532,\n",
       "  0.0069346953134395576,\n",
       "  0.0061860707478205625,\n",
       "  0.0027935829375086256,\n",
       "  0.0019234309775607759,\n",
       "  0.0015578624642282528,\n",
       "  0.0013039458993405692,\n",
       "  0.0011882114953263418,\n",
       "  0.0009873149438614124,\n",
       "  0.0009327070193218166,\n",
       "  0.0008281578752518582,\n",
       "  0.0007238405791883308,\n",
       "  0.0007275118298007568,\n",
       "  0.0006504257142200674,\n",
       "  0.0006025204906779292,\n",
       "  0.000552950575518863,\n",
       "  0.0005430754823273195,\n",
       "  0.0005096341284163492,\n",
       "  0.0005018312298680508,\n",
       "  0.046155475099160535,\n",
       "  0.030293188174255192,\n",
       "  0.0167861831202907,\n",
       "  0.0029443678841313443],\n",
       " 'train_acc': [0.19125,\n",
       "  0.3879166666666667,\n",
       "  0.4725,\n",
       "  0.6091666666666666,\n",
       "  0.73,\n",
       "  0.8479166666666667,\n",
       "  0.92375,\n",
       "  0.9620833333333333,\n",
       "  0.9820833333333333,\n",
       "  0.9883333333333333,\n",
       "  0.9945833333333334,\n",
       "  0.9975,\n",
       "  0.9983333333333333,\n",
       "  0.9991666666666666,\n",
       "  1.0,\n",
       "  1.0,\n",
       "  1.0,\n",
       "  1.0,\n",
       "  1.0,\n",
       "  1.0,\n",
       "  1.0,\n",
       "  1.0,\n",
       "  1.0,\n",
       "  1.0,\n",
       "  1.0,\n",
       "  0.995,\n",
       "  0.9791666666666666,\n",
       "  0.9966666666666667,\n",
       "  0.9991666666666666,\n",
       "  0.9995833333333334,\n",
       "  1.0,\n",
       "  1.0,\n",
       "  1.0,\n",
       "  1.0,\n",
       "  1.0,\n",
       "  1.0,\n",
       "  1.0,\n",
       "  1.0,\n",
       "  1.0,\n",
       "  1.0,\n",
       "  1.0,\n",
       "  1.0,\n",
       "  1.0,\n",
       "  1.0,\n",
       "  1.0,\n",
       "  1.0,\n",
       "  0.9879166666666667,\n",
       "  0.99125,\n",
       "  0.9970833333333333,\n",
       "  0.9995833333333334],\n",
       " 'val_acc': [0.26666666666666666,\n",
       "  0.285,\n",
       "  0.31666666666666665,\n",
       "  0.35833333333333334,\n",
       "  0.33166666666666667,\n",
       "  0.30333333333333334,\n",
       "  0.39,\n",
       "  0.38666666666666666,\n",
       "  0.38166666666666665,\n",
       "  0.42,\n",
       "  0.3566666666666667,\n",
       "  0.45166666666666666,\n",
       "  0.37166666666666665,\n",
       "  0.39166666666666666,\n",
       "  0.38666666666666666,\n",
       "  0.37166666666666665,\n",
       "  0.375,\n",
       "  0.37666666666666665,\n",
       "  0.375,\n",
       "  0.37833333333333335,\n",
       "  0.37666666666666665,\n",
       "  0.37833333333333335,\n",
       "  0.37833333333333335,\n",
       "  0.38,\n",
       "  0.37,\n",
       "  0.37166666666666665,\n",
       "  0.405,\n",
       "  0.37833333333333335,\n",
       "  0.37166666666666665,\n",
       "  0.37166666666666665,\n",
       "  0.37166666666666665,\n",
       "  0.37,\n",
       "  0.37166666666666665,\n",
       "  0.37333333333333335,\n",
       "  0.38,\n",
       "  0.375,\n",
       "  0.37333333333333335,\n",
       "  0.37166666666666665,\n",
       "  0.37,\n",
       "  0.37,\n",
       "  0.37,\n",
       "  0.36666666666666664,\n",
       "  0.365,\n",
       "  0.365,\n",
       "  0.36666666666666664,\n",
       "  0.3616666666666667,\n",
       "  0.32166666666666666,\n",
       "  0.37166666666666665,\n",
       "  0.3883333333333333,\n",
       "  0.37]}"
      ]
     },
     "execution_count": 19,
     "metadata": {},
     "output_type": "execute_result"
    }
   ],
   "source": [
    "criterion = nn.CrossEntropyLoss()\n",
    "optimizer = torch.optim.Adam(model.parameters(), lr=1e-3)\n",
    "\n",
    "train_model(model, train_loader, val_loader, optimizer, criterion, epochs=50)\n"
   ]
  },
  {
   "cell_type": "markdown",
   "id": "3aad1bcd",
   "metadata": {},
   "source": [
    "Отчёт и матрица"
   ]
  },
  {
   "cell_type": "code",
   "execution_count": 20,
   "id": "323ca119",
   "metadata": {},
   "outputs": [],
   "source": [
    "def get_predictions(model, dataloader):\n",
    "    model.eval()\n",
    "    all_preds = []\n",
    "    all_labels = []\n",
    "\n",
    "    with torch.no_grad():\n",
    "        for x_batch, y_batch in dataloader:\n",
    "            x_batch, y_batch = x_batch.to(device), y_batch.to(device)\n",
    "            outputs = model(x_batch)\n",
    "            preds = torch.argmax(outputs, dim=1)\n",
    "\n",
    "            all_preds.extend(preds.cpu().numpy())\n",
    "            all_labels.extend(y_batch.cpu().numpy())\n",
    "\n",
    "    return all_labels, all_preds\n"
   ]
  },
  {
   "cell_type": "code",
   "execution_count": 21,
   "id": "6ed70694",
   "metadata": {},
   "outputs": [
    {
     "name": "stdout",
     "output_type": "stream",
     "text": [
      "Classification Report:\n",
      "\n",
      "              precision    recall  f1-score   support\n",
      "\n",
      "    Bradbury       0.59      0.38      0.46       100\n",
      "    Bulgakov       0.51      0.29      0.37       100\n",
      "         Fry       0.25      0.96      0.40       100\n",
      "       Genri       0.50      0.06      0.11       100\n",
      "       Simak       0.60      0.26      0.36       100\n",
      " Strugatskie       0.60      0.27      0.37       100\n",
      "\n",
      "    accuracy                           0.37       600\n",
      "   macro avg       0.51      0.37      0.35       600\n",
      "weighted avg       0.51      0.37      0.35       600\n",
      "\n"
     ]
    },
    {
     "data": {
      "image/png": "[encoded data removed]",
      "text/plain": [
       "<Figure size 800x600 with 2 Axes>"
      ]
     },
     "metadata": {},
     "output_type": "display_data"
    }
   ],
   "source": [
    "# Получаем метки и предсказания\n",
    "true_labels, pred_labels = get_predictions(model, val_loader)\n",
    "\n",
    "# Расшифровка чисел в имена авторов\n",
    "label_names = label_encoder.classes_\n",
    "\n",
    "# Classification report\n",
    "print(\"Classification Report:\\n\")\n",
    "print(classification_report(true_labels, pred_labels, target_names=label_names))\n",
    "\n",
    "# Confusion matrix\n",
    "cm = confusion_matrix(true_labels, pred_labels)\n",
    "\n",
    "plt.figure(figsize=(8, 6))\n",
    "sns.heatmap(cm, annot=True, fmt='d', cmap='Blues', xticklabels=label_names, yticklabels=label_names)\n",
    "plt.xlabel('Predicted')\n",
    "plt.ylabel('True')\n",
    "plt.title('Confusion Matrix')\n",
    "plt.show()\n"
   ]
  },
  {
   "cell_type": "markdown",
   "id": "5cc764cf",
   "metadata": {},
   "source": [
    "Создание submission.csv"
   ]
  },
  {
   "cell_type": "code",
   "execution_count": 23,
   "id": "c762a55e",
   "metadata": {},
   "outputs": [
    {
     "data": {
      "application/vnd.microsoft.datawrangler.viewer.v0+json": {
       "columns": [
        {
         "name": "index",
         "rawType": "int64",
         "type": "integer"
        },
        {
         "name": "id",
         "rawType": "object",
         "type": "string"
        },
        {
         "name": "label",
         "rawType": "object",
         "type": "string"
        }
       ],
       "conversionMethod": "pd.DataFrame",
       "ref": "32c9e948-12aa-445f-9273-e9eaa684365b",
       "rows": [
        [
         "0",
         "author1",
         "Fry"
        ],
        [
         "1",
         "author10",
         "Fry"
        ],
        [
         "2",
         "author11",
         "Fry"
        ],
        [
         "3",
         "author12",
         "Fry"
        ],
        [
         "4",
         "author13",
         "Fry"
        ]
       ],
       "shape": {
        "columns": 2,
        "rows": 5
       }
      },
      "text/html": [
       "<div>\n",
       "<style scoped>\n",
       "    .dataframe tbody tr th:only-of-type {\n",
       "        vertical-align: middle;\n",
       "    }\n",
       "\n",
       "    .dataframe tbody tr th {\n",
       "        vertical-align: top;\n",
       "    }\n",
       "\n",
       "    .dataframe thead th {\n",
       "        text-align: right;\n",
       "    }\n",
       "</style>\n",
       "<table border=\"1\" class=\"dataframe\">\n",
       "  <thead>\n",
       "    <tr style=\"text-align: right;\">\n",
       "      <th></th>\n",
       "      <th>id</th>\n",
       "      <th>label</th>\n",
       "    </tr>\n",
       "  </thead>\n",
       "  <tbody>\n",
       "    <tr>\n",
       "      <th>0</th>\n",
       "      <td>author1</td>\n",
       "      <td>Fry</td>\n",
       "    </tr>\n",
       "    <tr>\n",
       "      <th>1</th>\n",
       "      <td>author10</td>\n",
       "      <td>Fry</td>\n",
       "    </tr>\n",
       "    <tr>\n",
       "      <th>2</th>\n",
       "      <td>author11</td>\n",
       "      <td>Fry</td>\n",
       "    </tr>\n",
       "    <tr>\n",
       "      <th>3</th>\n",
       "      <td>author12</td>\n",
       "      <td>Fry</td>\n",
       "    </tr>\n",
       "    <tr>\n",
       "      <th>4</th>\n",
       "      <td>author13</td>\n",
       "      <td>Fry</td>\n",
       "    </tr>\n",
       "  </tbody>\n",
       "</table>\n",
       "</div>"
      ],
      "text/plain": [
       "         id label\n",
       "0   author1   Fry\n",
       "1  author10   Fry\n",
       "2  author11   Fry\n",
       "3  author12   Fry\n",
       "4  author13   Fry"
      ]
     },
     "execution_count": 23,
     "metadata": {},
     "output_type": "execute_result"
    }
   ],
   "source": [
    "import os\n",
    "import pandas as pd\n",
    "\n",
    "def load_test_texts(folder_path):\n",
    "    test_texts = []\n",
    "    file_names = []\n",
    "\n",
    "    for fname in sorted(os.listdir(folder_path)):\n",
    "        if fname.startswith(\"author\") and fname.endswith(\".txt\"):\n",
    "            with open(os.path.join(folder_path, fname), encoding='utf-8') as f:\n",
    "                text = f.read().lower()\n",
    "                test_texts.append(text)\n",
    "                file_names.append(fname.replace(\".txt\", \"\"))\n",
    "    return file_names, test_texts\n",
    "\n",
    "def predict_author(texts, model, tokenizer, max_len=200):\n",
    "    model.eval()\n",
    "    results = []\n",
    "\n",
    "    with torch.no_grad():\n",
    "        for text in texts:\n",
    "            tokens = [vocab.get(token, vocab[\"<UNK>\"]) for token in tokenizer(text)]\n",
    "            if len(tokens) < max_len:\n",
    "                tokens += [vocab[\"<PAD>\"]] * (max_len - len(tokens))\n",
    "            else:\n",
    "                tokens = tokens[:max_len]\n",
    "\n",
    "            input_tensor = torch.tensor([tokens]).to(device)\n",
    "            output = model(input_tensor)\n",
    "            pred = torch.argmax(output, dim=1).item()\n",
    "            results.append(pred)\n",
    "    \n",
    "    return results\n",
    "\n",
    "def basic_tokenizer(text):\n",
    "    return text.lower().split()\n",
    "\n",
    "\n",
    "test_path = \"data/\"\n",
    "\n",
    "\n",
    "tokenizer = basic_tokenizer\n",
    "\n",
    "# Получение предсказаний\n",
    "file_ids, test_texts = load_test_texts(test_path)\n",
    "test_preds = predict_author(test_texts, model, tokenizer)\n",
    "\n",
    "# Обратное преобразование индексов в имена авторов\n",
    "predicted_labels = label_encoder.inverse_transform(test_preds)\n",
    "\n",
    "# Создание submission-файла\n",
    "submission = pd.DataFrame({\n",
    "    \"id\": file_ids,\n",
    "    \"label\": predicted_labels\n",
    "})\n",
    "submission.to_csv(\"submission_LSTM.csv\", index=False)\n",
    "submission.head()\n"
   ]
  }
 ],
 "metadata": {
  "kernelspec": {
   "display_name": "base",
   "language": "python",
   "name": "python3"
  },
  "language_info": {
   "codemirror_mode": {
    "name": "ipython",
    "version": 3
   },
   "file_extension": ".py",
   "mimetype": "text/x-python",
   "name": "python",
   "nbconvert_exporter": "python",
   "pygments_lexer": "ipython3",
   "version": "3.12.7"
  }
 },
 "nbformat": 4,
 "nbformat_minor": 5
}
