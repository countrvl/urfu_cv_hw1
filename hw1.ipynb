{
 "cells": [
  {
   "cell_type": "markdown",
   "id": "4e033e17",
   "metadata": {},
   "source": [
    "Импорты и конфигурация"
   ]
  },
  {
   "cell_type": "code",
   "execution_count": 202,
   "id": "d405a4e1",
   "metadata": {},
   "outputs": [],
   "source": [
    "import os\n",
    "import re\n",
    "import pandas as pd\n",
    "from collections import defaultdict\n",
    "from sklearn.utils import shuffle\n",
    "from sklearn.preprocessing import LabelEncoder\n",
    "from sklearn.model_selection import train_test_split\n",
    "from sklearn.metrics import classification_report, confusion_matrix\n",
    "import matplotlib.pyplot as plt\n",
    "import seaborn as sns\n",
    "\n",
    "import torch\n",
    "from torch.utils.data import Dataset\n",
    "from torch.utils.data import DataLoader\n",
    "import torch.nn as nn\n",
    "import torch.nn.functional as F\n",
    "from sklearn.metrics import accuracy_score\n",
    "from tqdm import tqdm\n",
    "\n",
    "DATA_DIR = 'data/'"
   ]
  },
  {
   "cell_type": "markdown",
   "id": "a63c2cfa",
   "metadata": {},
   "source": [
    "Очистка текста и фрагментация"
   ]
  },
  {
   "cell_type": "code",
   "execution_count": 203,
   "id": "5d533c37",
   "metadata": {},
   "outputs": [],
   "source": [
    "def clean_text(text):\n",
    "    text = text.lower()\n",
    "    text = re.sub(r'[^а-яa-z. ]+', '', text)\n",
    "    text = re.sub(r'\\s+', ' ', text)\n",
    "    return text.strip()\n",
    "\n",
    "def split_into_chunks(text, max_chunk_len=300):\n",
    "    sentences = re.split(r'\\.\\s+', text)\n",
    "    chunks = []\n",
    "    chunk = \"\"\n",
    "\n",
    "    for sent in sentences:\n",
    "        if len(chunk) + len(sent) <= max_chunk_len:\n",
    "            chunk += sent + '. '\n",
    "        else:\n",
    "            if len(chunk.strip()) > 50:\n",
    "                chunks.append(chunk.strip())\n",
    "            chunk = sent + '. '\n",
    "\n",
    "    if len(chunk.strip()) > 50:\n",
    "        chunks.append(chunk.strip())\n",
    "\n",
    "    return chunks\n"
   ]
  },
  {
   "cell_type": "markdown",
   "id": "02b81033",
   "metadata": {},
   "source": [
    "Сбор и балансировка данных"
   ]
  },
  {
   "cell_type": "code",
   "execution_count": 204,
   "id": "3d635a9f",
   "metadata": {},
   "outputs": [],
   "source": [
    "def read_all_authors_balanced(data_dir, max_samples_per_author=500):\n",
    "    data = defaultdict(list)\n",
    "\n",
    "    for fname in os.listdir(data_dir):\n",
    "        if fname.endswith(\".txt\") and not fname.startswith(\"author\"):\n",
    "            author = fname.replace(\".txt\", \"\")\n",
    "            fpath = os.path.join(data_dir, fname)\n",
    "            with open(fpath, 'r', encoding='utf-8') as f:\n",
    "                raw = f.read()\n",
    "\n",
    "            cleaned = clean_text(raw)\n",
    "            chunks = split_into_chunks(cleaned, max_chunk_len=300)\n",
    "            chunks = chunks[:max_samples_per_author]\n",
    "\n",
    "            data['text'].extend(chunks)\n",
    "            data['author'].extend([author] * len(chunks))\n",
    "\n",
    "    df = pd.DataFrame(data)\n",
    "    df = shuffle(df, random_state=42).reset_index(drop=True)\n",
    "    return df\n"
   ]
  },
  {
   "cell_type": "markdown",
   "id": "d64045ed",
   "metadata": {},
   "source": [
    "Построение словаря и кодирование текста"
   ]
  },
  {
   "cell_type": "code",
   "execution_count": 205,
   "id": "f990def1",
   "metadata": {},
   "outputs": [],
   "source": [
    "def build_vocab(texts, min_freq=1):\n",
    "    word_freq = defaultdict(int)\n",
    "    for text in texts:\n",
    "        for word in text.split():\n",
    "            word_freq[word] += 1\n",
    "\n",
    "    vocab = {word: idx + 2 for idx, (word, freq) in enumerate(word_freq.items()) if freq >= min_freq}\n",
    "    vocab['<PAD>'] = 0\n",
    "    vocab['<UNK>'] = 1\n",
    "    return vocab\n",
    "\n",
    "def encode_text(text, vocab, max_len):\n",
    "    encoded = [vocab.get(word, vocab['<UNK>']) for word in text.split()]\n",
    "    if len(encoded) < max_len:\n",
    "        encoded += [vocab['<PAD>']] * (max_len - len(encoded))\n",
    "    else:\n",
    "        encoded = encoded[:max_len]\n",
    "    return encoded\n"
   ]
  },
  {
   "cell_type": "markdown",
   "id": "d53a2e8a",
   "metadata": {},
   "source": [
    "Кастомный Dataset и сборка финальной выборки"
   ]
  },
  {
   "cell_type": "code",
   "execution_count": 206,
   "id": "1015df1e",
   "metadata": {},
   "outputs": [],
   "source": [
    "class TextDataset(Dataset):\n",
    "    def __init__(self, texts, labels, vocab, max_len):\n",
    "        self.texts = texts\n",
    "        self.labels = labels\n",
    "        self.vocab = vocab\n",
    "        self.max_len = max_len\n",
    "\n",
    "    def __len__(self):\n",
    "        return len(self.texts)\n",
    "\n",
    "    def __getitem__(self, idx):\n",
    "        x = encode_text(self.texts[idx], self.vocab, self.max_len)\n",
    "        y = self.labels[idx]\n",
    "        return torch.tensor(x, dtype=torch.long), torch.tensor(y, dtype=torch.long)\n",
    "\n",
    "def prepare_dataset(df, max_len=200):\n",
    "    le = LabelEncoder()\n",
    "    df['label'] = le.fit_transform(df['author'])\n",
    "    vocab = build_vocab(df['text'])\n",
    "    dataset = TextDataset(df['text'].tolist(), df['label'].tolist(), vocab, max_len)\n",
    "    return dataset, vocab, le\n"
   ]
  },
  {
   "cell_type": "code",
   "execution_count": 207,
   "id": "1d0a3a7f",
   "metadata": {},
   "outputs": [
    {
     "data": {
      "image/png": "[encoded data removed]",
      "text/plain": [
       "<Figure size 1000x400 with 1 Axes>"
      ]
     },
     "metadata": {},
     "output_type": "display_data"
    },
    {
     "name": "stdout",
     "output_type": "stream",
     "text": [
      "Пример текста: а я тебя ни о чем не спрашиваю пока.драмба промолчал.они шагали через степь все больше уклоняясь от прямой дороги к дому потому что гагу стало вдруг интересно посмотреть что за сооружение торчит на небольшом холме справа.\n",
      "Токенизированный: tensor([ 2,  3,  4,  5,  6,  7,  8,  9, 10, 11, 12, 13, 14, 15, 16, 17, 18, 19,\n",
      "        20, 21, 22, 23, 24, 25, 26, 27, 28, 29, 24, 30, 31, 32, 33, 34, 35, 36,\n",
      "         0,  0,  0,  0,  0,  0,  0,  0,  0,  0,  0,  0,  0,  0,  0,  0,  0,  0,\n",
      "         0,  0,  0,  0,  0,  0,  0,  0,  0,  0,  0,  0,  0,  0,  0,  0,  0,  0,\n",
      "         0,  0,  0,  0,  0,  0,  0,  0,  0,  0,  0,  0,  0,  0,  0,  0,  0,  0,\n",
      "         0,  0,  0,  0,  0,  0,  0,  0,  0,  0])\n",
      "Метка (label): tensor(5)\n"
     ]
    }
   ],
   "source": [
    "df = read_all_authors_balanced(DATA_DIR, max_samples_per_author=500)\n",
    "df.head()\n",
    "\n",
    "plt.figure(figsize=(10, 4))\n",
    "sns.countplot(data=df, x='author', order=df['author'].value_counts().index)\n",
    "plt.title(\"Баланс классов\")\n",
    "plt.xticks(rotation=45)\n",
    "plt.show()\n",
    "\n",
    "dataset, vocab, label_encoder = prepare_dataset(df, max_len=100)\n",
    "\n",
    "# Проверка одного примера\n",
    "print(\"Пример текста:\", df.iloc[0]['text'])\n",
    "print(\"Токенизированный:\", dataset[0][0])\n",
    "print(\"Метка (label):\", dataset[0][1])\n"
   ]
  },
  {
   "cell_type": "markdown",
   "id": "2e3d50e1",
   "metadata": {},
   "source": []
  },
  {
   "cell_type": "markdown",
   "id": "456e09b5",
   "metadata": {},
   "source": [
    "Разделение на train / validation и DataLoader"
   ]
  },
  {
   "cell_type": "code",
   "execution_count": 208,
   "id": "863dec54",
   "metadata": {},
   "outputs": [],
   "source": [
    "# Загружаем и подготавливаем\n",
    "train_df, val_df = train_test_split(df, test_size=0.2, stratify=df['author'], random_state=42)\n",
    "\n",
    "# Строим датасеты\n",
    "train_dataset, vocab, label_encoder = prepare_dataset(train_df, max_len=100)\n",
    "val_dataset = TextDataset(val_df['text'].tolist(), \n",
    "                          label_encoder.transform(val_df['author']), \n",
    "                          vocab, max_len=100)\n",
    "\n",
    "batch_size = 64\n",
    "\n",
    "train_loader = DataLoader(train_dataset, batch_size=batch_size, shuffle=True)\n",
    "val_loader = DataLoader(val_dataset, batch_size=batch_size, shuffle=False)"
   ]
  },
  {
   "cell_type": "markdown",
   "id": "eda491e5",
   "metadata": {},
   "source": [
    "Модель на LSTM (PyTorch)"
   ]
  },
  {
   "cell_type": "code",
   "execution_count": 209,
   "id": "f9f97ccf",
   "metadata": {},
   "outputs": [],
   "source": [
    "class LSTMClassifier(nn.Module):\n",
    "    def __init__(self, vocab_size, embedding_dim, hidden_dim, output_dim, padding_idx, dropout=0.3):\n",
    "        super(LSTMClassifier, self).__init__()\n",
    "        self.embedding = nn.Embedding(vocab_size, embedding_dim, padding_idx=padding_idx)\n",
    "        self.lstm = nn.LSTM(embedding_dim, hidden_dim, batch_first=True, bidirectional=True)\n",
    "        self.dropout = nn.Dropout(dropout)\n",
    "        self.fc = nn.Linear(hidden_dim * 2, output_dim)\n",
    "\n",
    "    def forward(self, x):  # <== ОБЯЗАТЕЛЬНО внутри класса, с отступом\n",
    "        embedded = self.embedding(x)\n",
    "        _, (hidden, _) = self.lstm(embedded)\n",
    "\n",
    "        # объединяем два направления\n",
    "        hidden = torch.cat((hidden[0], hidden[1]), dim=1)\n",
    "        out = self.dropout(hidden)\n",
    "        return self.fc(out)\n"
   ]
  },
  {
   "cell_type": "code",
   "execution_count": 210,
   "id": "324e090e",
   "metadata": {},
   "outputs": [
    {
     "name": "stdout",
     "output_type": "stream",
     "text": [
      "Using device: cuda\n",
      "LSTMClassifier(\n",
      "  (embedding): Embedding(27360, 200, padding_idx=0)\n",
      "  (lstm): LSTM(200, 128, batch_first=True, bidirectional=True)\n",
      "  (dropout): Dropout(p=0.3, inplace=False)\n",
      "  (fc): Linear(in_features=256, out_features=6, bias=True)\n",
      ")\n"
     ]
    }
   ],
   "source": [
    "device = torch.device(\"cuda\" if torch.cuda.is_available() else \"cpu\")\n",
    "print(\"Using device:\", device)\n",
    "\n",
    "embedding_dim = 200\n",
    "hidden_dim = 128\n",
    "output_dim = len(label_encoder.classes_)\n",
    "padding_idx = vocab['<PAD>']\n",
    "\n",
    "model = LSTMClassifier(\n",
    "    vocab_size=len(vocab),\n",
    "    embedding_dim=embedding_dim,\n",
    "    hidden_dim=hidden_dim,\n",
    "    output_dim=output_dim,\n",
    "    padding_idx=padding_idx,\n",
    "    dropout=0.3\n",
    ").to(device)\n",
    "\n",
    "print(model)\n"
   ]
  },
  {
   "cell_type": "markdown",
   "id": "6095accc",
   "metadata": {},
   "source": [
    "Обучение модели + валидация"
   ]
  },
  {
   "cell_type": "code",
   "execution_count": 211,
   "id": "8a1845a1",
   "metadata": {},
   "outputs": [],
   "source": [
    "def train_model(model, train_loader, val_loader, optimizer, criterion, epochs=10):\n",
    "    history = {\n",
    "        'train_loss': [],\n",
    "        'train_acc': [],\n",
    "        'val_acc': []\n",
    "    }\n",
    "\n",
    "    for epoch in range(1, epochs + 1):\n",
    "        model.train()\n",
    "        train_losses = []\n",
    "        true_labels = []\n",
    "        pred_labels = []\n",
    "\n",
    "        for batch in tqdm(train_loader, desc=f\"Epoch {epoch}\"):\n",
    "            x_batch, y_batch = [b.to(device) for b in batch]\n",
    "\n",
    "            optimizer.zero_grad()\n",
    "            logits = model(x_batch)\n",
    "            loss = criterion(logits, y_batch)\n",
    "            loss.backward()\n",
    "            optimizer.step()\n",
    "\n",
    "            train_losses.append(loss.item())\n",
    "            preds = torch.argmax(logits, dim=1)\n",
    "            true_labels.extend(y_batch.cpu().numpy())\n",
    "            pred_labels.extend(preds.cpu().numpy())\n",
    "\n",
    "        train_acc = accuracy_score(true_labels, pred_labels)\n",
    "        avg_loss = sum(train_losses) / len(train_losses)\n",
    "        val_acc = evaluate_model(model, val_loader)\n",
    "\n",
    "        history['train_loss'].append(avg_loss)\n",
    "        history['train_acc'].append(train_acc)\n",
    "        history['val_acc'].append(val_acc)\n",
    "\n",
    "        print(f\"Epoch {epoch} — Train Loss: {avg_loss:.4f}, Train Acc: {train_acc:.4f}, Val Acc: {val_acc:.4f}\")\n",
    "\n",
    "    # Визуализация\n",
    "    plt.figure(figsize=(14, 5))\n",
    "\n",
    "    plt.subplot(1, 2, 1)\n",
    "    plt.plot(history['train_loss'], label='Train Loss')\n",
    "    plt.title('Train Loss over Epochs')\n",
    "    plt.xlabel('Epoch')\n",
    "    plt.ylabel('Loss')\n",
    "    plt.grid(True)\n",
    "    plt.legend()\n",
    "\n",
    "    plt.subplot(1, 2, 2)\n",
    "    plt.plot(history['train_acc'], label='Train Accuracy')\n",
    "    plt.plot(history['val_acc'], label='Validation Accuracy')\n",
    "    plt.title('Accuracy over Epochs')\n",
    "    plt.xlabel('Epoch')\n",
    "    plt.ylabel('Accuracy')\n",
    "    plt.grid(True)\n",
    "    plt.legend()\n",
    "\n",
    "    plt.tight_layout()\n",
    "    plt.show()\n",
    "\n",
    "    return history"
   ]
  },
  {
   "cell_type": "code",
   "execution_count": 212,
   "id": "97be76ae",
   "metadata": {},
   "outputs": [],
   "source": [
    "def evaluate_model(model, val_loader):\n",
    "    model.eval()\n",
    "    all_preds = []\n",
    "    all_labels = []\n",
    "\n",
    "    with torch.no_grad():\n",
    "        for x_batch, y_batch in val_loader:\n",
    "            x_batch, y_batch = x_batch.to(device), y_batch.to(device)\n",
    "            outputs = model(x_batch)\n",
    "            preds = torch.argmax(outputs, dim=1)\n",
    "            all_preds.extend(preds.cpu().numpy())\n",
    "            all_labels.extend(y_batch.cpu().numpy())\n",
    "\n",
    "    return accuracy_score(all_labels, all_preds)\n"
   ]
  },
  {
   "cell_type": "code",
   "execution_count": 213,
   "id": "e8348f8e",
   "metadata": {},
   "outputs": [
    {
     "name": "stderr",
     "output_type": "stream",
     "text": [
      "Epoch 1: 100%|██████████| 38/38 [00:00<00:00, 94.78it/s] \n"
     ]
    },
    {
     "name": "stdout",
     "output_type": "stream",
     "text": [
      "Epoch 1 — Train Loss: 1.7836, Train Acc: 0.2021, Val Acc: 0.2283\n"
     ]
    },
    {
     "name": "stderr",
     "output_type": "stream",
     "text": [
      "Epoch 2: 100%|██████████| 38/38 [00:00<00:00, 171.16it/s]\n"
     ]
    },
    {
     "name": "stdout",
     "output_type": "stream",
     "text": [
      "Epoch 2 — Train Loss: 1.6949, Train Acc: 0.3829, Val Acc: 0.2450\n"
     ]
    },
    {
     "name": "stderr",
     "output_type": "stream",
     "text": [
      "Epoch 3: 100%|██████████| 38/38 [00:00<00:00, 176.78it/s]\n"
     ]
    },
    {
     "name": "stdout",
     "output_type": "stream",
     "text": [
      "Epoch 3 — Train Loss: 1.4815, Train Acc: 0.4608, Val Acc: 0.2617\n"
     ]
    },
    {
     "name": "stderr",
     "output_type": "stream",
     "text": [
      "Epoch 4: 100%|██████████| 38/38 [00:00<00:00, 190.04it/s]\n"
     ]
    },
    {
     "name": "stdout",
     "output_type": "stream",
     "text": [
      "Epoch 4 — Train Loss: 1.1547, Train Acc: 0.6067, Val Acc: 0.3017\n"
     ]
    },
    {
     "name": "stderr",
     "output_type": "stream",
     "text": [
      "Epoch 5: 100%|██████████| 38/38 [00:00<00:00, 177.00it/s]\n"
     ]
    },
    {
     "name": "stdout",
     "output_type": "stream",
     "text": [
      "Epoch 5 — Train Loss: 0.7745, Train Acc: 0.7488, Val Acc: 0.3133\n"
     ]
    },
    {
     "name": "stderr",
     "output_type": "stream",
     "text": [
      "Epoch 6: 100%|██████████| 38/38 [00:00<00:00, 167.10it/s]\n"
     ]
    },
    {
     "name": "stdout",
     "output_type": "stream",
     "text": [
      "Epoch 6 — Train Loss: 0.4686, Train Acc: 0.8646, Val Acc: 0.3583\n"
     ]
    },
    {
     "name": "stderr",
     "output_type": "stream",
     "text": [
      "Epoch 7: 100%|██████████| 38/38 [00:00<00:00, 172.62it/s]\n"
     ]
    },
    {
     "name": "stdout",
     "output_type": "stream",
     "text": [
      "Epoch 7 — Train Loss: 0.2519, Train Acc: 0.9437, Val Acc: 0.3483\n"
     ]
    },
    {
     "name": "stderr",
     "output_type": "stream",
     "text": [
      "Epoch 8: 100%|██████████| 38/38 [00:00<00:00, 182.07it/s]\n"
     ]
    },
    {
     "name": "stdout",
     "output_type": "stream",
     "text": [
      "Epoch 8 — Train Loss: 0.1373, Train Acc: 0.9704, Val Acc: 0.3367\n"
     ]
    },
    {
     "name": "stderr",
     "output_type": "stream",
     "text": [
      "Epoch 9: 100%|██████████| 38/38 [00:00<00:00, 177.56it/s]\n"
     ]
    },
    {
     "name": "stdout",
     "output_type": "stream",
     "text": [
      "Epoch 9 — Train Loss: 0.0848, Train Acc: 0.9854, Val Acc: 0.3533\n"
     ]
    },
    {
     "name": "stderr",
     "output_type": "stream",
     "text": [
      "Epoch 10: 100%|██████████| 38/38 [00:00<00:00, 177.59it/s]\n"
     ]
    },
    {
     "name": "stdout",
     "output_type": "stream",
     "text": [
      "Epoch 10 — Train Loss: 0.0509, Train Acc: 0.9904, Val Acc: 0.3617\n"
     ]
    },
    {
     "name": "stderr",
     "output_type": "stream",
     "text": [
      "Epoch 11: 100%|██████████| 38/38 [00:00<00:00, 173.68it/s]\n"
     ]
    },
    {
     "name": "stdout",
     "output_type": "stream",
     "text": [
      "Epoch 11 — Train Loss: 0.0307, Train Acc: 0.9971, Val Acc: 0.3717\n"
     ]
    },
    {
     "name": "stderr",
     "output_type": "stream",
     "text": [
      "Epoch 12: 100%|██████████| 38/38 [00:00<00:00, 198.20it/s]\n"
     ]
    },
    {
     "name": "stdout",
     "output_type": "stream",
     "text": [
      "Epoch 12 — Train Loss: 0.1664, Train Acc: 0.9575, Val Acc: 0.4100\n"
     ]
    },
    {
     "name": "stderr",
     "output_type": "stream",
     "text": [
      "Epoch 13: 100%|██████████| 38/38 [00:00<00:00, 189.18it/s]\n"
     ]
    },
    {
     "name": "stdout",
     "output_type": "stream",
     "text": [
      "Epoch 13 — Train Loss: 0.0725, Train Acc: 0.9871, Val Acc: 0.3867\n"
     ]
    },
    {
     "name": "stderr",
     "output_type": "stream",
     "text": [
      "Epoch 14: 100%|██████████| 38/38 [00:00<00:00, 185.06it/s]\n"
     ]
    },
    {
     "name": "stdout",
     "output_type": "stream",
     "text": [
      "Epoch 14 — Train Loss: 0.0319, Train Acc: 0.9958, Val Acc: 0.4300\n"
     ]
    },
    {
     "name": "stderr",
     "output_type": "stream",
     "text": [
      "Epoch 15: 100%|██████████| 38/38 [00:00<00:00, 178.23it/s]\n"
     ]
    },
    {
     "name": "stdout",
     "output_type": "stream",
     "text": [
      "Epoch 15 — Train Loss: 0.0141, Train Acc: 0.9996, Val Acc: 0.4067\n"
     ]
    },
    {
     "name": "stderr",
     "output_type": "stream",
     "text": [
      "Epoch 16: 100%|██████████| 38/38 [00:00<00:00, 190.27it/s]\n"
     ]
    },
    {
     "name": "stdout",
     "output_type": "stream",
     "text": [
      "Epoch 16 — Train Loss: 0.0181, Train Acc: 0.9975, Val Acc: 0.3883\n"
     ]
    },
    {
     "name": "stderr",
     "output_type": "stream",
     "text": [
      "Epoch 17: 100%|██████████| 38/38 [00:00<00:00, 174.47it/s]\n"
     ]
    },
    {
     "name": "stdout",
     "output_type": "stream",
     "text": [
      "Epoch 17 — Train Loss: 0.0066, Train Acc: 1.0000, Val Acc: 0.3917\n"
     ]
    },
    {
     "name": "stderr",
     "output_type": "stream",
     "text": [
      "Epoch 18: 100%|██████████| 38/38 [00:00<00:00, 188.08it/s]\n"
     ]
    },
    {
     "name": "stdout",
     "output_type": "stream",
     "text": [
      "Epoch 18 — Train Loss: 0.0047, Train Acc: 1.0000, Val Acc: 0.4050\n"
     ]
    },
    {
     "name": "stderr",
     "output_type": "stream",
     "text": [
      "Epoch 19: 100%|██████████| 38/38 [00:00<00:00, 183.76it/s]\n"
     ]
    },
    {
     "name": "stdout",
     "output_type": "stream",
     "text": [
      "Epoch 19 — Train Loss: 0.0065, Train Acc: 0.9996, Val Acc: 0.3883\n"
     ]
    },
    {
     "name": "stderr",
     "output_type": "stream",
     "text": [
      "Epoch 20: 100%|██████████| 38/38 [00:00<00:00, 187.62it/s]\n"
     ]
    },
    {
     "name": "stdout",
     "output_type": "stream",
     "text": [
      "Epoch 20 — Train Loss: 0.0043, Train Acc: 1.0000, Val Acc: 0.4000\n"
     ]
    },
    {
     "data": {
      "image/png": "[encoded data removed]",
      "text/plain": [
       "<Figure size 1400x500 with 2 Axes>"
      ]
     },
     "metadata": {},
     "output_type": "display_data"
    },
    {
     "data": {
      "text/plain": [
       "{'train_loss': [1.7836439609527588,\n",
       "  1.6949202230102138,\n",
       "  1.4815464584450972,\n",
       "  1.1547185198256844,\n",
       "  0.7744549544234025,\n",
       "  0.4686197309117568,\n",
       "  0.2518814519832009,\n",
       "  0.13727144426421115,\n",
       "  0.08483560226465527,\n",
       "  0.05091573969510041,\n",
       "  0.030742293150213203,\n",
       "  0.16636003605335167,\n",
       "  0.07250238322701894,\n",
       "  0.031872834226018505,\n",
       "  0.014061776100118694,\n",
       "  0.018125598698756414,\n",
       "  0.006590207805857062,\n",
       "  0.004720165363610967,\n",
       "  0.0065477758425434955,\n",
       "  0.00426611070227074],\n",
       " 'train_acc': [0.20208333333333334,\n",
       "  0.3829166666666667,\n",
       "  0.4608333333333333,\n",
       "  0.6066666666666667,\n",
       "  0.74875,\n",
       "  0.8645833333333334,\n",
       "  0.94375,\n",
       "  0.9704166666666667,\n",
       "  0.9854166666666667,\n",
       "  0.9904166666666666,\n",
       "  0.9970833333333333,\n",
       "  0.9575,\n",
       "  0.9870833333333333,\n",
       "  0.9958333333333333,\n",
       "  0.9995833333333334,\n",
       "  0.9975,\n",
       "  1.0,\n",
       "  1.0,\n",
       "  0.9995833333333334,\n",
       "  1.0],\n",
       " 'val_acc': [0.22833333333333333,\n",
       "  0.245,\n",
       "  0.26166666666666666,\n",
       "  0.3016666666666667,\n",
       "  0.31333333333333335,\n",
       "  0.35833333333333334,\n",
       "  0.34833333333333333,\n",
       "  0.33666666666666667,\n",
       "  0.35333333333333333,\n",
       "  0.3616666666666667,\n",
       "  0.37166666666666665,\n",
       "  0.41,\n",
       "  0.38666666666666666,\n",
       "  0.43,\n",
       "  0.4066666666666667,\n",
       "  0.3883333333333333,\n",
       "  0.39166666666666666,\n",
       "  0.405,\n",
       "  0.3883333333333333,\n",
       "  0.4]}"
      ]
     },
     "execution_count": 213,
     "metadata": {},
     "output_type": "execute_result"
    }
   ],
   "source": [
    "criterion = nn.CrossEntropyLoss()\n",
    "optimizer = torch.optim.Adam(model.parameters(), lr=1e-3)\n",
    "\n",
    "train_model(model, train_loader, val_loader, optimizer, criterion, epochs=20)\n"
   ]
  },
  {
   "cell_type": "markdown",
   "id": "3aad1bcd",
   "metadata": {},
   "source": [
    "Отчёт и матрица"
   ]
  },
  {
   "cell_type": "code",
   "execution_count": 214,
   "id": "323ca119",
   "metadata": {},
   "outputs": [],
   "source": [
    "def get_predictions(model, dataloader):\n",
    "    model.eval()\n",
    "    all_preds = []\n",
    "    all_labels = []\n",
    "\n",
    "    with torch.no_grad():\n",
    "        for x_batch, y_batch in dataloader:\n",
    "            x_batch, y_batch = x_batch.to(device), y_batch.to(device)\n",
    "            outputs = model(x_batch)\n",
    "            preds = torch.argmax(outputs, dim=1)\n",
    "\n",
    "            all_preds.extend(preds.cpu().numpy())\n",
    "            all_labels.extend(y_batch.cpu().numpy())\n",
    "\n",
    "    return all_labels, all_preds\n"
   ]
  },
  {
   "cell_type": "code",
   "execution_count": 215,
   "id": "6ed70694",
   "metadata": {},
   "outputs": [
    {
     "name": "stdout",
     "output_type": "stream",
     "text": [
      "Classification Report:\n",
      "\n",
      "              precision    recall  f1-score   support\n",
      "\n",
      "    Bradbury       0.89      0.16      0.27       100\n",
      "    Bulgakov       0.73      0.27      0.39       100\n",
      "         Fry       0.49      0.71      0.58       100\n",
      "       Genri       0.70      0.07      0.13       100\n",
      "       Simak       0.30      0.53      0.38       100\n",
      " Strugatskie       0.31      0.66      0.42       100\n",
      "\n",
      "    accuracy                           0.40       600\n",
      "   macro avg       0.57      0.40      0.36       600\n",
      "weighted avg       0.57      0.40      0.36       600\n",
      "\n"
     ]
    },
    {
     "data": {
      "image/png": "[encoded data removed]",
      "text/plain": [
       "<Figure size 800x600 with 2 Axes>"
      ]
     },
     "metadata": {},
     "output_type": "display_data"
    }
   ],
   "source": [
    "# Получаем метки и предсказания\n",
    "true_labels, pred_labels = get_predictions(model, val_loader)\n",
    "\n",
    "# Расшифровка чисел в имена авторов\n",
    "label_names = label_encoder.classes_\n",
    "\n",
    "# Classification report\n",
    "print(\"Classification Report:\\n\")\n",
    "print(classification_report(true_labels, pred_labels, target_names=label_names))\n",
    "\n",
    "# Confusion matrix\n",
    "cm = confusion_matrix(true_labels, pred_labels)\n",
    "\n",
    "plt.figure(figsize=(8, 6))\n",
    "sns.heatmap(cm, annot=True, fmt='d', cmap='Blues', xticklabels=label_names, yticklabels=label_names)\n",
    "plt.xlabel('Predicted')\n",
    "plt.ylabel('True')\n",
    "plt.title('Confusion Matrix')\n",
    "plt.show()\n"
   ]
  }
 ],
 "metadata": {
  "kernelspec": {
   "display_name": "base",
   "language": "python",
   "name": "python3"
  },
  "language_info": {
   "codemirror_mode": {
    "name": "ipython",
    "version": 3
   },
   "file_extension": ".py",
   "mimetype": "text/x-python",
   "name": "python",
   "nbconvert_exporter": "python",
   "pygments_lexer": "ipython3",
   "version": "3.12.7"
  }
 },
 "nbformat": 4,
 "nbformat_minor": 5
}
